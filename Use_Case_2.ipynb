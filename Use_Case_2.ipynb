{
 "cells": [
  {
   "cell_type": "code",
   "execution_count": 1,
   "metadata": {
    "colab": {
     "base_uri": "https://localhost:8080/"
    },
    "id": "4eBDpD1KmmHy",
    "outputId": "5c093a85-9640-4974-b46b-42b7600d87a2"
   },
   "outputs": [],
   "source": [
    "#import packages\n",
    "import pandas as pd\n",
    "from statsmodels.graphics.tsaplots import plot_acf\n",
    "from statsmodels.tsa.seasonal import seasonal_decompose\n",
    "from sklearn.preprocessing import LabelEncoder\n",
    "import numpy as np\n",
    "import seaborn as sn\n",
    "import matplotlib.pyplot as plt"
   ]
  },
  {
   "cell_type": "code",
   "execution_count": 2,
   "metadata": {
    "id": "THy_5d6umxbM"
   },
   "outputs": [],
   "source": [
    "#read in data (Following entirely the same data preprocessing stage)\n",
    "data_MD_cause_of_death = pd.read_excel('D:\\\\Datasets\\\\Project-Data602\\\\cause_of_death_MD_10-19_xlsx.xlsx',engine='openpyxl')\n",
    "data_CDC_cause_categories = pd.read_excel('D:\\\\Datasets\\\\Project-Data602\\\\CDC_cause_categories.xlsx')\n",
    "data_income_10_11 = pd.read_excel('D:\\\\Datasets\\\\Project-Data602\\\\income_10-11.xlsx',\n",
    "                                  skiprows=5)\n",
    "data_income_12_13 = pd.read_excel('D:\\\\Datasets\\\\Project-Data602\\\\income_12-13.xlsx',\n",
    "                                  skiprows=5)\n",
    "data_income_14_16 = pd.read_excel('D:\\\\Datasets\\\\Project-Data602\\\\income_14-16.xlsx',\n",
    "                                  skiprows=5)\n",
    "data_income_17_19 = pd.read_excel('D:\\\\Datasets\\\\Project-Data602\\\\income_17-19.xlsx',\n",
    "                                  skiprows=5)\n",
    "data_deaths = pd.read_excel('D:\\\\Datasets\\\\Project-Data602\\\\total_deaths_xlsx.xlsx')\n",
    "\n",
    "#add year column to all air data frames and then append them \n",
    "data_air_2010 = pd.read_csv('D:\\\\Datasets\\\\Project-Data602\\\\EPA_2010.csv')\n",
    "data_air_2011 = pd.read_csv('D:\\\\Datasets\\\\Project-Data602\\\\EPA_2011.csv')\n",
    "data_air_2012 = pd.read_csv('D:\\\\Datasets\\\\Project-Data602\\\\EPA_2012.csv')\n",
    "data_air_2013 = pd.read_csv('D:\\\\Datasets\\\\Project-Data602\\\\EPA_2013.csv')\n",
    "data_air_2014 = pd.read_csv('D:\\\\Datasets\\\\Project-Data602\\\\EPA_2014.csv')\n",
    "data_air_2015 = pd.read_csv('D:\\\\Datasets\\\\Project-Data602\\\\EPA_2015.csv')\n",
    "data_air_2016 = pd.read_csv('D:\\\\Datasets\\\\Project-Data602\\\\EPA_2016.csv')\n",
    "data_air_2017 = pd.read_csv('D:\\\\Datasets\\\\Project-Data602\\\\EPA_2017.csv')\n",
    "data_air_2018 = pd.read_csv('D:\\\\Datasets\\\\Project-Data602\\\\EPA_2018.csv')\n",
    "data_air_2019 = pd.read_csv('D:\\\\Datasets\\\\Project-Data602\\\\EPA_2019.csv')"
   ]
  },
  {
   "cell_type": "markdown",
   "metadata": {
    "id": "Xn2eQDBS850s"
   },
   "source": [
    "## Clean up data"
   ]
  },
  {
   "cell_type": "code",
   "execution_count": 3,
   "metadata": {
    "id": "Dgn03nxGtPuB"
   },
   "outputs": [],
   "source": [
    "#this function takes a dataframe and column name that contains the location name\n",
    "#returns a state for the columns that are \"County, State\"\n",
    "def get_state_col(df, col_name):\n",
    "\n",
    "  #split the value in the county column and grab the last item \n",
    "  #in the resulting list\n",
    "  state = df[col_name].strip('*').split()[-1]\n",
    "\n",
    "  return state"
   ]
  },
  {
   "cell_type": "code",
   "execution_count": 4,
   "metadata": {
    "id": "ut4gP7eZu-h-"
   },
   "outputs": [],
   "source": [
    "#this function takes a dataframe and column name that contains the location name\n",
    "#returns just the county name for the columns that are \"County, State\"\n",
    "def get_county_col(df, col_name):\n",
    "\n",
    "  #index the string in the county column to grab all\n",
    "  #but the last 4 positions (\", state\")\n",
    "  county = df[col_name].strip('*')[:-4]\n",
    "  \n",
    "  return county"
   ]
  },
  {
   "cell_type": "code",
   "execution_count": 5,
   "metadata": {
    "id": "68vDx_fenINC"
   },
   "outputs": [],
   "source": [
    "#create a dataframe for MD data starting with the cause of death dataframe\n",
    "#but dropping some unnecessary columns\n",
    "MD_df = data_MD_cause_of_death.drop(['Notes', 'Crude Rate', 'Year Code'], axis=1)\n",
    "\n",
    "#use the get_state_col and get_county_col functions\n",
    "MD_df['State'] = MD_df.apply(lambda x: get_state_col(x, 'County'), axis=1)\n",
    "MD_df['County'] = MD_df.apply(lambda x: get_county_col(x, 'County'), axis=1)\n",
    "#MD_df.tail()"
   ]
  },
  {
   "cell_type": "code",
   "execution_count": 6,
   "metadata": {
    "id": "eHafZMIaszqP"
   },
   "outputs": [],
   "source": [
    "#same process for the income dataframes\n",
    "income_10_11_df = data_income_10_11.drop(['GeoFips', 'LineCode'], axis=1)\n",
    "\n",
    "income_10_11_df['State'] = income_10_11_df.apply(lambda x: get_state_col(x, 'GeoName'), axis=1)\n",
    "income_10_11_df['County'] = income_10_11_df.apply(lambda x: get_county_col(x, 'GeoName'), axis=1)\n",
    "#income_10_11_df.tail()"
   ]
  },
  {
   "cell_type": "code",
   "execution_count": 7,
   "metadata": {
    "id": "cgDXp22JYaQN"
   },
   "outputs": [],
   "source": [
    "#same process for the income dataframes\n",
    "income_12_13_df = data_income_12_13.drop(['GeoFips', 'LineCode'], axis=1)\n",
    "\n",
    "income_12_13_df['State'] = income_12_13_df.apply(lambda x: get_state_col(x, 'GeoName'), axis=1)\n",
    "income_12_13_df['County'] = income_12_13_df.apply(lambda x: get_county_col(x, 'GeoName'), axis=1)\n",
    "#income_12_13_df.tail()"
   ]
  },
  {
   "cell_type": "code",
   "execution_count": 8,
   "metadata": {
    "id": "h0KCngWEcJV5"
   },
   "outputs": [],
   "source": [
    "#same process for the income dataframes\n",
    "income_14_16_df = data_income_14_16.drop(['GeoFips', 'LineCode'], axis=1)\n",
    "\n",
    "income_14_16_df['State'] = income_14_16_df.apply(lambda x: get_state_col(x, 'GeoName'), axis=1)\n",
    "income_14_16_df['County'] = income_14_16_df.apply(lambda x: get_county_col(x, 'GeoName'), axis=1)\n",
    "#income_14_16_df.tail()"
   ]
  },
  {
   "cell_type": "code",
   "execution_count": 9,
   "metadata": {
    "id": "yapl3jeLd37C"
   },
   "outputs": [],
   "source": [
    "#same process for the income dataframes\n",
    "income_17_19_df = data_income_17_19.drop(['GeoFips', 'LineCode'], axis=1)\n",
    "\n",
    "income_17_19_df['State'] = income_17_19_df.apply(lambda x: get_state_col(x, 'GeoName'), axis=1)\n",
    "income_17_19_df['County'] = income_17_19_df.apply(lambda x: get_county_col(x, 'GeoName'), axis=1)\n",
    "#income_17_19_df.tail()"
   ]
  },
  {
   "cell_type": "code",
   "execution_count": 10,
   "metadata": {
    "id": "zPlu2qVQhtKr"
   },
   "outputs": [],
   "source": [
    "#the values in the \"Description\" column in the income dataframes should\n",
    "#be columns and the years should be row values\n",
    "#this function uses the melt function to do that\n",
    "#it takes the dataframe and a list of the years that are column names that\n",
    "#we want to be in the rows\n",
    "def melt_income_df(df, value_vars_list):\n",
    "\n",
    "  new_df = df.melt(id_vars=['County', 'State', 'Description'],\n",
    "                                             value_vars=value_vars_list, \n",
    "                                             var_name='Year')\n",
    "  \n",
    "  return new_df"
   ]
  },
  {
   "cell_type": "code",
   "execution_count": 11,
   "metadata": {
    "colab": {
     "base_uri": "https://localhost:8080/",
     "height": 195
    },
    "id": "QZeqIeBufSZM",
    "outputId": "7e0280ae-1302-405a-9ef1-a4ee61b8351e"
   },
   "outputs": [
    {
     "data": {
      "text/html": [
       "<div>\n",
       "<style scoped>\n",
       "    .dataframe tbody tr th:only-of-type {\n",
       "        vertical-align: middle;\n",
       "    }\n",
       "\n",
       "    .dataframe tbody tr th {\n",
       "        vertical-align: top;\n",
       "    }\n",
       "\n",
       "    .dataframe thead th {\n",
       "        text-align: right;\n",
       "    }\n",
       "</style>\n",
       "<table border=\"1\" class=\"dataframe\">\n",
       "  <thead>\n",
       "    <tr style=\"text-align: right;\">\n",
       "      <th></th>\n",
       "      <th>County</th>\n",
       "      <th>State</th>\n",
       "      <th>Description</th>\n",
       "      <th>Year</th>\n",
       "      <th>value</th>\n",
       "    </tr>\n",
       "  </thead>\n",
       "  <tbody>\n",
       "    <tr>\n",
       "      <th>18823</th>\n",
       "      <td>Washakie</td>\n",
       "      <td>WY</td>\n",
       "      <td>Population (persons) 1/</td>\n",
       "      <td>2011</td>\n",
       "      <td>8449</td>\n",
       "    </tr>\n",
       "    <tr>\n",
       "      <th>18824</th>\n",
       "      <td>Washakie</td>\n",
       "      <td>WY</td>\n",
       "      <td>Per capita personal income (dollars) 2/</td>\n",
       "      <td>2011</td>\n",
       "      <td>41591</td>\n",
       "    </tr>\n",
       "    <tr>\n",
       "      <th>18825</th>\n",
       "      <td>Weston</td>\n",
       "      <td>WY</td>\n",
       "      <td>Personal income (thousands of dollars)</td>\n",
       "      <td>2011</td>\n",
       "      <td>287716</td>\n",
       "    </tr>\n",
       "    <tr>\n",
       "      <th>18826</th>\n",
       "      <td>Weston</td>\n",
       "      <td>WY</td>\n",
       "      <td>Population (persons) 1/</td>\n",
       "      <td>2011</td>\n",
       "      <td>7142</td>\n",
       "    </tr>\n",
       "    <tr>\n",
       "      <th>18827</th>\n",
       "      <td>Weston</td>\n",
       "      <td>WY</td>\n",
       "      <td>Per capita personal income (dollars) 2/</td>\n",
       "      <td>2011</td>\n",
       "      <td>40285</td>\n",
       "    </tr>\n",
       "  </tbody>\n",
       "</table>\n",
       "</div>"
      ],
      "text/plain": [
       "         County State                              Description  Year   value\n",
       "18823  Washakie    WY                  Population (persons) 1/  2011    8449\n",
       "18824  Washakie    WY  Per capita personal income (dollars) 2/  2011   41591\n",
       "18825    Weston    WY   Personal income (thousands of dollars)  2011  287716\n",
       "18826    Weston    WY                  Population (persons) 1/  2011    7142\n",
       "18827    Weston    WY  Per capita personal income (dollars) 2/  2011   40285"
      ]
     },
     "execution_count": 11,
     "metadata": {},
     "output_type": "execute_result"
    }
   ],
   "source": [
    "#use the melt_income_df function to switch the columns and rows\n",
    "income_10_11_pivot_df = melt_income_df(income_10_11_df, ['2010','2011'])\n",
    "income_10_11_pivot_df.tail()"
   ]
  },
  {
   "cell_type": "code",
   "execution_count": 12,
   "metadata": {
    "id": "0dzZON3kg7im"
   },
   "outputs": [],
   "source": [
    "#follow the same process for all income dataframes\n",
    "income_12_13_pivot_df = melt_income_df(income_12_13_df, ['2012','2013'])\n",
    "income_14_16_pivot_df = melt_income_df(income_14_16_df, ['2014','2015','2016'])\n",
    "income_17_19_pivot_df = melt_income_df(income_17_19_df, ['2017','2018','2019'])"
   ]
  },
  {
   "cell_type": "code",
   "execution_count": 13,
   "metadata": {
    "id": "IJk3GOmkkVIb"
   },
   "outputs": [],
   "source": [
    "#append the income dataframes together\n",
    "income_df = income_10_11_pivot_df.append(income_12_13_pivot_df)\n",
    "income_df = income_df.append(income_14_16_pivot_df)\n",
    "income_df = income_df.append(income_17_19_pivot_df)\n",
    "\n",
    "#strip some extra characters from description column\n",
    "income_df['Description'] = income_df['Description'].str.strip('12/ ')\n",
    "\n",
    "#drop some rows with extra info\n",
    "income_df = income_df.loc[(income_df['Description'] != 'Personal income (thousands of dollars)') &\n",
    "                          (income_df['Description'] != 'Population (persons)')]\n",
    "\n",
    "#rename \"value\" column to something more descriptive\n",
    "income_df = income_df.rename(columns={'value':'per_capita_income_dollars'}).drop('Description', axis=1)"
   ]
  },
  {
   "cell_type": "code",
   "execution_count": 14,
   "metadata": {
    "id": "iMzNEfc_kf1U"
   },
   "outputs": [],
   "source": [
    "#make county names consistent with MD death dataframe\n",
    "income_df['County'] = income_df['County'] + ' County'\n",
    "income_df.loc[income_df['County'] == \n",
    "              'Baltimore (Independent City) County','County'] = 'Baltimore city'"
   ]
  },
  {
   "cell_type": "code",
   "execution_count": 15,
   "metadata": {
    "id": "Wn5FTr0QnTmO"
   },
   "outputs": [],
   "source": [
    "#drop unnecessary columns\n",
    "deaths_df = data_deaths.drop(['Year Code', 'Crude Rate'], axis=1)\n",
    "\n",
    "#get county and state columns\n",
    "deaths_df['State'] = deaths_df.apply(lambda x: get_state_col(x, 'County'), axis=1)\n",
    "deaths_df['County'] = deaths_df.apply(lambda x: get_county_col(x, 'County'), axis=1)\n",
    "\n",
    "#rename \"Deaths\" column to \"Total Deaths\"\n",
    "deaths_df = deaths_df.rename(columns={'Deaths':'Total Deaths'})\n",
    "\n",
    "#deaths_df.tail()"
   ]
  },
  {
   "cell_type": "code",
   "execution_count": 16,
   "metadata": {
    "id": "QteJ9ySq0KNr"
   },
   "outputs": [],
   "source": [
    "#remove the decimal from cause of death code so this column can be linked\n",
    "#to the more-general cause of death categories from CDC\n",
    "def get_cause_code(df):\n",
    "  new_code = df['Cause of death Code'][:3]\n",
    "  return new_code\n",
    "\n",
    "MD_df['Cause of death Code no decimal'] = MD_df.apply(lambda x: get_cause_code(x), \n",
    "                                                      axis=1)\n"
   ]
  },
  {
   "cell_type": "markdown",
   "metadata": {
    "id": "SuX3Pnks0GEF"
   },
   "source": [
    "Merge all data together"
   ]
  },
  {
   "cell_type": "code",
   "execution_count": 17,
   "metadata": {
    "colab": {
     "base_uri": "https://localhost:8080/",
     "height": 450
    },
    "id": "Ef8XzJxXdMDm",
    "outputId": "b4b74ec0-72ac-449a-aa9e-17799a8732e1"
   },
   "outputs": [
    {
     "data": {
      "text/html": [
       "<div>\n",
       "<style scoped>\n",
       "    .dataframe tbody tr th:only-of-type {\n",
       "        vertical-align: middle;\n",
       "    }\n",
       "\n",
       "    .dataframe tbody tr th {\n",
       "        vertical-align: top;\n",
       "    }\n",
       "\n",
       "    .dataframe thead th {\n",
       "        text-align: right;\n",
       "    }\n",
       "</style>\n",
       "<table border=\"1\" class=\"dataframe\">\n",
       "  <thead>\n",
       "    <tr style=\"text-align: right;\">\n",
       "      <th></th>\n",
       "      <th>County Code</th>\n",
       "      <th>County</th>\n",
       "      <th>CO 2nd Max 1-hr</th>\n",
       "      <th>CO 2nd Max 8-hr</th>\n",
       "      <th>NO2 98th Percentile 1-hr</th>\n",
       "      <th>NO2 Mean 1-hr</th>\n",
       "      <th>Ozone 2nd Max 1-hr</th>\n",
       "      <th>Ozone 4th Max 8-hr</th>\n",
       "      <th>SO2 99th Percentile 1-hr</th>\n",
       "      <th>SO2 2nd Max 24-hr</th>\n",
       "      <th>SO2 Mean 1-hr</th>\n",
       "      <th>PM2.5 98th Percentile 24-hr</th>\n",
       "      <th>PM2.5 Weighted Mean 24-hr</th>\n",
       "      <th>PM10 2nd Max 24-hr</th>\n",
       "      <th>PM10 Mean 24-hr</th>\n",
       "      <th>Lead Max 3-Mo Avg</th>\n",
       "      <th>Year</th>\n",
       "    </tr>\n",
       "  </thead>\n",
       "  <tbody>\n",
       "    <tr>\n",
       "      <th>0</th>\n",
       "      <td>1003</td>\n",
       "      <td>Baldwin County, AL</td>\n",
       "      <td>.</td>\n",
       "      <td>.</td>\n",
       "      <td>.</td>\n",
       "      <td>.</td>\n",
       "      <td>0.09</td>\n",
       "      <td>0.074</td>\n",
       "      <td>.</td>\n",
       "      <td>.</td>\n",
       "      <td>.</td>\n",
       "      <td>20</td>\n",
       "      <td>10.2</td>\n",
       "      <td>.</td>\n",
       "      <td>.</td>\n",
       "      <td>.</td>\n",
       "      <td>2010</td>\n",
       "    </tr>\n",
       "    <tr>\n",
       "      <th>1</th>\n",
       "      <td>1027</td>\n",
       "      <td>Clay County, AL</td>\n",
       "      <td>.</td>\n",
       "      <td>.</td>\n",
       "      <td>.</td>\n",
       "      <td>.</td>\n",
       "      <td>.</td>\n",
       "      <td>.</td>\n",
       "      <td>.</td>\n",
       "      <td>.</td>\n",
       "      <td>.</td>\n",
       "      <td>22</td>\n",
       "      <td>10.5</td>\n",
       "      <td>.</td>\n",
       "      <td>.</td>\n",
       "      <td>.</td>\n",
       "      <td>2010</td>\n",
       "    </tr>\n",
       "    <tr>\n",
       "      <th>2</th>\n",
       "      <td>1033</td>\n",
       "      <td>Colbert County, AL</td>\n",
       "      <td>.</td>\n",
       "      <td>.</td>\n",
       "      <td>.</td>\n",
       "      <td>.</td>\n",
       "      <td>0.08</td>\n",
       "      <td>0.068</td>\n",
       "      <td>.</td>\n",
       "      <td>.</td>\n",
       "      <td>.</td>\n",
       "      <td>22</td>\n",
       "      <td>11.1</td>\n",
       "      <td>.</td>\n",
       "      <td>.</td>\n",
       "      <td>.</td>\n",
       "      <td>2010</td>\n",
       "    </tr>\n",
       "    <tr>\n",
       "      <th>3</th>\n",
       "      <td>1049</td>\n",
       "      <td>DeKalb County, AL</td>\n",
       "      <td>.</td>\n",
       "      <td>.</td>\n",
       "      <td>.</td>\n",
       "      <td>.</td>\n",
       "      <td>0.08</td>\n",
       "      <td>0.071</td>\n",
       "      <td>.</td>\n",
       "      <td>.</td>\n",
       "      <td>.</td>\n",
       "      <td>.</td>\n",
       "      <td>.</td>\n",
       "      <td>.</td>\n",
       "      <td>.</td>\n",
       "      <td>.</td>\n",
       "      <td>2010</td>\n",
       "    </tr>\n",
       "    <tr>\n",
       "      <th>4</th>\n",
       "      <td>1051</td>\n",
       "      <td>Elmore County, AL</td>\n",
       "      <td>.</td>\n",
       "      <td>.</td>\n",
       "      <td>.</td>\n",
       "      <td>.</td>\n",
       "      <td>0.08</td>\n",
       "      <td>0.073</td>\n",
       "      <td>.</td>\n",
       "      <td>.</td>\n",
       "      <td>.</td>\n",
       "      <td>.</td>\n",
       "      <td>.</td>\n",
       "      <td>.</td>\n",
       "      <td>.</td>\n",
       "      <td>.</td>\n",
       "      <td>2010</td>\n",
       "    </tr>\n",
       "  </tbody>\n",
       "</table>\n",
       "</div>"
      ],
      "text/plain": [
       "   County Code              County CO 2nd Max 1-hr CO 2nd Max 8-hr  \\\n",
       "0         1003  Baldwin County, AL               .               .   \n",
       "1         1027     Clay County, AL               .               .   \n",
       "2         1033  Colbert County, AL               .               .   \n",
       "3         1049   DeKalb County, AL               .               .   \n",
       "4         1051   Elmore County, AL               .               .   \n",
       "\n",
       "  NO2 98th Percentile 1-hr NO2 Mean 1-hr Ozone 2nd Max 1-hr  \\\n",
       "0                        .             .               0.09   \n",
       "1                        .             .                  .   \n",
       "2                        .             .               0.08   \n",
       "3                        .             .               0.08   \n",
       "4                        .             .               0.08   \n",
       "\n",
       "  Ozone 4th Max 8-hr SO2 99th Percentile 1-hr SO2 2nd Max 24-hr SO2 Mean 1-hr  \\\n",
       "0              0.074                        .                 .             .   \n",
       "1                  .                        .                 .             .   \n",
       "2              0.068                        .                 .             .   \n",
       "3              0.071                        .                 .             .   \n",
       "4              0.073                        .                 .             .   \n",
       "\n",
       "  PM2.5 98th Percentile 24-hr PM2.5 Weighted Mean 24-hr PM10 2nd Max 24-hr  \\\n",
       "0                          20                      10.2                  .   \n",
       "1                          22                      10.5                  .   \n",
       "2                          22                      11.1                  .   \n",
       "3                           .                         .                  .   \n",
       "4                           .                         .                  .   \n",
       "\n",
       "  PM10 Mean 24-hr Lead Max 3-Mo Avg  Year  \n",
       "0               .                 .  2010  \n",
       "1               .                 .  2010  \n",
       "2               .                 .  2010  \n",
       "3               .                 .  2010  \n",
       "4               .                 .  2010  "
      ]
     },
     "execution_count": 17,
     "metadata": {},
     "output_type": "execute_result"
    }
   ],
   "source": [
    "#add year column to all air data frames and then append them \n",
    "\n",
    "data_air_2010['Year'] = '2010'\n",
    "data_air_2011['Year'] = '2011'\n",
    "data_air_2012['Year'] = '2012'\n",
    "data_air_2013['Year'] = '2013'\n",
    "data_air_2014['Year'] = '2014'\n",
    "data_air_2015['Year'] = '2015'\n",
    "data_air_2016['Year'] = '2016'\n",
    "data_air_2017['Year'] = '2017'\n",
    "data_air_2018['Year'] = '2018'\n",
    "data_air_2019['Year'] = '2019'\n",
    "\n",
    "air_df = data_air_2010.append([data_air_2011, data_air_2012, data_air_2013,\n",
    "                               data_air_2014, data_air_2015, data_air_2016,\n",
    "                               data_air_2017, data_air_2018, data_air_2019], \n",
    "                              ignore_index=True)\n",
    "\n",
    "#data_air_2010.head()\n",
    "air_df.head()"
   ]
  },
  {
   "cell_type": "code",
   "execution_count": 18,
   "metadata": {
    "id": "UEdHJABtdMDm"
   },
   "outputs": [],
   "source": [
    "#get county and state columns in air_df\n",
    "air_df['State'] = air_df.apply(lambda x: get_state_col(x, 'County'), axis=1)\n",
    "air_df['County'] = air_df.apply(lambda x: get_county_col(x, 'County'), axis=1)\n",
    "#air_df.head()"
   ]
  },
  {
   "cell_type": "code",
   "execution_count": 19,
   "metadata": {
    "id": "NtlgvwyhdMDm"
   },
   "outputs": [],
   "source": [
    "#make county names consistent with MD death dataframe\n",
    "air_df.loc[air_df['County'] == 'Baltimore (City)','County'] = 'Baltimore city'"
   ]
  },
  {
   "cell_type": "code",
   "execution_count": 20,
   "metadata": {
    "colab": {
     "base_uri": "https://localhost:8080/",
     "height": 366
    },
    "id": "UNwktCYldMDm",
    "outputId": "7f43e4a8-38d4-4321-a134-c6829af149ad"
   },
   "outputs": [
    {
     "data": {
      "text/html": [
       "<div>\n",
       "<style scoped>\n",
       "    .dataframe tbody tr th:only-of-type {\n",
       "        vertical-align: middle;\n",
       "    }\n",
       "\n",
       "    .dataframe tbody tr th {\n",
       "        vertical-align: top;\n",
       "    }\n",
       "\n",
       "    .dataframe thead th {\n",
       "        text-align: right;\n",
       "    }\n",
       "</style>\n",
       "<table border=\"1\" class=\"dataframe\">\n",
       "  <thead>\n",
       "    <tr style=\"text-align: right;\">\n",
       "      <th></th>\n",
       "      <th>County Code</th>\n",
       "      <th>County</th>\n",
       "      <th>CO 2nd Max 1-hr</th>\n",
       "      <th>CO 2nd Max 8-hr</th>\n",
       "      <th>NO2 98th Percentile 1-hr</th>\n",
       "      <th>NO2 Mean 1-hr</th>\n",
       "      <th>Ozone 2nd Max 1-hr</th>\n",
       "      <th>Ozone 4th Max 8-hr</th>\n",
       "      <th>SO2 99th Percentile 1-hr</th>\n",
       "      <th>SO2 2nd Max 24-hr</th>\n",
       "      <th>SO2 Mean 1-hr</th>\n",
       "      <th>PM2.5 98th Percentile 24-hr</th>\n",
       "      <th>PM2.5 Weighted Mean 24-hr</th>\n",
       "      <th>PM10 2nd Max 24-hr</th>\n",
       "      <th>PM10 Mean 24-hr</th>\n",
       "      <th>Lead Max 3-Mo Avg</th>\n",
       "      <th>Year</th>\n",
       "      <th>State</th>\n",
       "    </tr>\n",
       "  </thead>\n",
       "  <tbody>\n",
       "    <tr>\n",
       "      <th>0</th>\n",
       "      <td>1003</td>\n",
       "      <td>Baldwin County</td>\n",
       "      <td>NaN</td>\n",
       "      <td>NaN</td>\n",
       "      <td>NaN</td>\n",
       "      <td>NaN</td>\n",
       "      <td>0.09</td>\n",
       "      <td>0.074</td>\n",
       "      <td>NaN</td>\n",
       "      <td>NaN</td>\n",
       "      <td>NaN</td>\n",
       "      <td>20</td>\n",
       "      <td>10.2</td>\n",
       "      <td>NaN</td>\n",
       "      <td>NaN</td>\n",
       "      <td>NaN</td>\n",
       "      <td>2010</td>\n",
       "      <td>AL</td>\n",
       "    </tr>\n",
       "    <tr>\n",
       "      <th>1</th>\n",
       "      <td>1027</td>\n",
       "      <td>Clay County</td>\n",
       "      <td>NaN</td>\n",
       "      <td>NaN</td>\n",
       "      <td>NaN</td>\n",
       "      <td>NaN</td>\n",
       "      <td>NaN</td>\n",
       "      <td>NaN</td>\n",
       "      <td>NaN</td>\n",
       "      <td>NaN</td>\n",
       "      <td>NaN</td>\n",
       "      <td>22</td>\n",
       "      <td>10.5</td>\n",
       "      <td>NaN</td>\n",
       "      <td>NaN</td>\n",
       "      <td>NaN</td>\n",
       "      <td>2010</td>\n",
       "      <td>AL</td>\n",
       "    </tr>\n",
       "    <tr>\n",
       "      <th>2</th>\n",
       "      <td>1033</td>\n",
       "      <td>Colbert County</td>\n",
       "      <td>NaN</td>\n",
       "      <td>NaN</td>\n",
       "      <td>NaN</td>\n",
       "      <td>NaN</td>\n",
       "      <td>0.08</td>\n",
       "      <td>0.068</td>\n",
       "      <td>NaN</td>\n",
       "      <td>NaN</td>\n",
       "      <td>NaN</td>\n",
       "      <td>22</td>\n",
       "      <td>11.1</td>\n",
       "      <td>NaN</td>\n",
       "      <td>NaN</td>\n",
       "      <td>NaN</td>\n",
       "      <td>2010</td>\n",
       "      <td>AL</td>\n",
       "    </tr>\n",
       "    <tr>\n",
       "      <th>3</th>\n",
       "      <td>1049</td>\n",
       "      <td>DeKalb County</td>\n",
       "      <td>NaN</td>\n",
       "      <td>NaN</td>\n",
       "      <td>NaN</td>\n",
       "      <td>NaN</td>\n",
       "      <td>0.08</td>\n",
       "      <td>0.071</td>\n",
       "      <td>NaN</td>\n",
       "      <td>NaN</td>\n",
       "      <td>NaN</td>\n",
       "      <td>NaN</td>\n",
       "      <td>NaN</td>\n",
       "      <td>NaN</td>\n",
       "      <td>NaN</td>\n",
       "      <td>NaN</td>\n",
       "      <td>2010</td>\n",
       "      <td>AL</td>\n",
       "    </tr>\n",
       "    <tr>\n",
       "      <th>4</th>\n",
       "      <td>1051</td>\n",
       "      <td>Elmore County</td>\n",
       "      <td>NaN</td>\n",
       "      <td>NaN</td>\n",
       "      <td>NaN</td>\n",
       "      <td>NaN</td>\n",
       "      <td>0.08</td>\n",
       "      <td>0.073</td>\n",
       "      <td>NaN</td>\n",
       "      <td>NaN</td>\n",
       "      <td>NaN</td>\n",
       "      <td>NaN</td>\n",
       "      <td>NaN</td>\n",
       "      <td>NaN</td>\n",
       "      <td>NaN</td>\n",
       "      <td>NaN</td>\n",
       "      <td>2010</td>\n",
       "      <td>AL</td>\n",
       "    </tr>\n",
       "  </tbody>\n",
       "</table>\n",
       "</div>"
      ],
      "text/plain": [
       "   County Code          County CO 2nd Max 1-hr CO 2nd Max 8-hr  \\\n",
       "0         1003  Baldwin County             NaN             NaN   \n",
       "1         1027     Clay County             NaN             NaN   \n",
       "2         1033  Colbert County             NaN             NaN   \n",
       "3         1049   DeKalb County             NaN             NaN   \n",
       "4         1051   Elmore County             NaN             NaN   \n",
       "\n",
       "  NO2 98th Percentile 1-hr NO2 Mean 1-hr Ozone 2nd Max 1-hr  \\\n",
       "0                      NaN           NaN               0.09   \n",
       "1                      NaN           NaN                NaN   \n",
       "2                      NaN           NaN               0.08   \n",
       "3                      NaN           NaN               0.08   \n",
       "4                      NaN           NaN               0.08   \n",
       "\n",
       "  Ozone 4th Max 8-hr SO2 99th Percentile 1-hr SO2 2nd Max 24-hr SO2 Mean 1-hr  \\\n",
       "0              0.074                      NaN               NaN           NaN   \n",
       "1                NaN                      NaN               NaN           NaN   \n",
       "2              0.068                      NaN               NaN           NaN   \n",
       "3              0.071                      NaN               NaN           NaN   \n",
       "4              0.073                      NaN               NaN           NaN   \n",
       "\n",
       "  PM2.5 98th Percentile 24-hr PM2.5 Weighted Mean 24-hr PM10 2nd Max 24-hr  \\\n",
       "0                          20                      10.2                NaN   \n",
       "1                          22                      10.5                NaN   \n",
       "2                          22                      11.1                NaN   \n",
       "3                         NaN                       NaN                NaN   \n",
       "4                         NaN                       NaN                NaN   \n",
       "\n",
       "  PM10 Mean 24-hr Lead Max 3-Mo Avg  Year State  \n",
       "0             NaN               NaN  2010    AL  \n",
       "1             NaN               NaN  2010    AL  \n",
       "2             NaN               NaN  2010    AL  \n",
       "3             NaN               NaN  2010    AL  \n",
       "4             NaN               NaN  2010    AL  "
      ]
     },
     "execution_count": 20,
     "metadata": {},
     "output_type": "execute_result"
    }
   ],
   "source": [
    "#replace '.' with np.nan\n",
    "air_df = air_df.replace('.', np.nan)\n",
    "air_df.head()"
   ]
  },
  {
   "cell_type": "code",
   "execution_count": 21,
   "metadata": {
    "colab": {
     "base_uri": "https://localhost:8080/"
    },
    "id": "Rxb9vbpYdMDn",
    "outputId": "975555b5-b33d-4355-ef95-4ebb28574617"
   },
   "outputs": [
    {
     "data": {
      "text/plain": [
       "0.47242380261248185"
      ]
     },
     "execution_count": 21,
     "metadata": {},
     "output_type": "execute_result"
    }
   ],
   "source": [
    "air_df['PM2.5 98th Percentile 24-hr'].isnull().sum()/air_df.shape[0]"
   ]
  },
  {
   "cell_type": "code",
   "execution_count": 22,
   "metadata": {
    "colab": {
     "base_uri": "https://localhost:8080/"
    },
    "id": "Bw65HKPCdMDn",
    "outputId": "ea94738a-73eb-4e56-a655-58ed948e33e8"
   },
   "outputs": [
    {
     "data": {
      "text/plain": [
       "0.19977192618702053"
      ]
     },
     "execution_count": 22,
     "metadata": {},
     "output_type": "execute_result"
    }
   ],
   "source": [
    "air_df['Ozone 2nd Max 1-hr'].isnull().sum()/air_df.shape[0]"
   ]
  },
  {
   "cell_type": "code",
   "execution_count": 23,
   "metadata": {
    "colab": {
     "base_uri": "https://localhost:8080/"
    },
    "id": "6yM3k2dSdMDn",
    "outputId": "79eb1b25-9de9-429f-aa54-a34aee0d95cc"
   },
   "outputs": [
    {
     "data": {
      "text/plain": [
       "0.05625"
      ]
     },
     "execution_count": 23,
     "metadata": {},
     "output_type": "execute_result"
    }
   ],
   "source": [
    "air_df.loc[air_df['State']=='MD']['Ozone 2nd Max 1-hr'].isnull().sum()/air_df.loc[air_df['State']=='MD'].shape[0]"
   ]
  },
  {
   "cell_type": "code",
   "execution_count": 24,
   "metadata": {
    "id": "8gCaqPf6yfEo"
   },
   "outputs": [],
   "source": [
    "MD_df = MD_df.merge(deaths_df[['County', 'Year', 'Total Deaths', 'State']], \n",
    "                    on=['County', 'State', 'Year'])"
   ]
  },
  {
   "cell_type": "code",
   "execution_count": 25,
   "metadata": {
    "id": "4DdJ4fDI1Lz5"
   },
   "outputs": [],
   "source": [
    "MD_df['Year'] = MD_df['Year'].astype('str')\n",
    "MD_df = MD_df.merge(income_df, on=['County', 'State', 'Year'])\n",
    "#MD_df.tail()"
   ]
  },
  {
   "cell_type": "code",
   "execution_count": 26,
   "metadata": {
    "id": "e8z3v-nI2Qj7"
   },
   "outputs": [],
   "source": [
    "MD_df = MD_df.merge(data_CDC_cause_categories, left_on='Cause of death Code no decimal',\n",
    "                    right_on = 'Code')\n",
    "#MD_df.head()"
   ]
  },
  {
   "cell_type": "code",
   "execution_count": 27,
   "metadata": {
    "colab": {
     "base_uri": "https://localhost:8080/",
     "height": 534
    },
    "id": "XJgxWAFvdMDo",
    "outputId": "beceb27d-174f-4715-f00d-4f3b5433ed5d"
   },
   "outputs": [
    {
     "data": {
      "text/html": [
       "<div>\n",
       "<style scoped>\n",
       "    .dataframe tbody tr th:only-of-type {\n",
       "        vertical-align: middle;\n",
       "    }\n",
       "\n",
       "    .dataframe tbody tr th {\n",
       "        vertical-align: top;\n",
       "    }\n",
       "\n",
       "    .dataframe thead th {\n",
       "        text-align: right;\n",
       "    }\n",
       "</style>\n",
       "<table border=\"1\" class=\"dataframe\">\n",
       "  <thead>\n",
       "    <tr style=\"text-align: right;\">\n",
       "      <th></th>\n",
       "      <th>County</th>\n",
       "      <th>County Code</th>\n",
       "      <th>Year</th>\n",
       "      <th>Cause of death</th>\n",
       "      <th>Cause of death Code</th>\n",
       "      <th>Deaths</th>\n",
       "      <th>Population</th>\n",
       "      <th>State</th>\n",
       "      <th>Cause of death Code no decimal</th>\n",
       "      <th>Total Deaths</th>\n",
       "      <th>per_capita_income_dollars</th>\n",
       "      <th>Code</th>\n",
       "      <th>Category</th>\n",
       "      <th>Ozone 2nd Max 1-hr</th>\n",
       "    </tr>\n",
       "  </thead>\n",
       "  <tbody>\n",
       "    <tr>\n",
       "      <th>0</th>\n",
       "      <td>Allegany County</td>\n",
       "      <td>24001</td>\n",
       "      <td>2010</td>\n",
       "      <td>Septicaemia, unspecified</td>\n",
       "      <td>A41.9</td>\n",
       "      <td>15</td>\n",
       "      <td>75087</td>\n",
       "      <td>MD</td>\n",
       "      <td>A41</td>\n",
       "      <td>913</td>\n",
       "      <td>32000</td>\n",
       "      <td>A41</td>\n",
       "      <td>Certain infectious and parasitic diseases</td>\n",
       "      <td>NaN</td>\n",
       "    </tr>\n",
       "    <tr>\n",
       "      <th>1</th>\n",
       "      <td>Allegany County</td>\n",
       "      <td>24001</td>\n",
       "      <td>2011</td>\n",
       "      <td>Septicaemia, unspecified</td>\n",
       "      <td>A41.9</td>\n",
       "      <td>15</td>\n",
       "      <td>74692</td>\n",
       "      <td>MD</td>\n",
       "      <td>A41</td>\n",
       "      <td>908</td>\n",
       "      <td>33253</td>\n",
       "      <td>A41</td>\n",
       "      <td>Certain infectious and parasitic diseases</td>\n",
       "      <td>NaN</td>\n",
       "    </tr>\n",
       "    <tr>\n",
       "      <th>2</th>\n",
       "      <td>Allegany County</td>\n",
       "      <td>24001</td>\n",
       "      <td>2012</td>\n",
       "      <td>Septicaemia, unspecified</td>\n",
       "      <td>A41.9</td>\n",
       "      <td>12</td>\n",
       "      <td>74012</td>\n",
       "      <td>MD</td>\n",
       "      <td>A41</td>\n",
       "      <td>869</td>\n",
       "      <td>33941</td>\n",
       "      <td>A41</td>\n",
       "      <td>Certain infectious and parasitic diseases</td>\n",
       "      <td>NaN</td>\n",
       "    </tr>\n",
       "    <tr>\n",
       "      <th>3</th>\n",
       "      <td>Allegany County</td>\n",
       "      <td>24001</td>\n",
       "      <td>2013</td>\n",
       "      <td>Septicaemia, unspecified</td>\n",
       "      <td>A41.9</td>\n",
       "      <td>15</td>\n",
       "      <td>73521</td>\n",
       "      <td>MD</td>\n",
       "      <td>A41</td>\n",
       "      <td>946</td>\n",
       "      <td>34504</td>\n",
       "      <td>A41</td>\n",
       "      <td>Certain infectious and parasitic diseases</td>\n",
       "      <td>NaN</td>\n",
       "    </tr>\n",
       "    <tr>\n",
       "      <th>4</th>\n",
       "      <td>Allegany County</td>\n",
       "      <td>24001</td>\n",
       "      <td>2014</td>\n",
       "      <td>Septicaemia, unspecified</td>\n",
       "      <td>A41.9</td>\n",
       "      <td>15</td>\n",
       "      <td>72952</td>\n",
       "      <td>MD</td>\n",
       "      <td>A41</td>\n",
       "      <td>910</td>\n",
       "      <td>35800</td>\n",
       "      <td>A41</td>\n",
       "      <td>Certain infectious and parasitic diseases</td>\n",
       "      <td>NaN</td>\n",
       "    </tr>\n",
       "  </tbody>\n",
       "</table>\n",
       "</div>"
      ],
      "text/plain": [
       "            County  County Code  Year            Cause of death  \\\n",
       "0  Allegany County        24001  2010  Septicaemia, unspecified   \n",
       "1  Allegany County        24001  2011  Septicaemia, unspecified   \n",
       "2  Allegany County        24001  2012  Septicaemia, unspecified   \n",
       "3  Allegany County        24001  2013  Septicaemia, unspecified   \n",
       "4  Allegany County        24001  2014  Septicaemia, unspecified   \n",
       "\n",
       "  Cause of death Code  Deaths  Population State  \\\n",
       "0               A41.9      15       75087    MD   \n",
       "1               A41.9      15       74692    MD   \n",
       "2               A41.9      12       74012    MD   \n",
       "3               A41.9      15       73521    MD   \n",
       "4               A41.9      15       72952    MD   \n",
       "\n",
       "  Cause of death Code no decimal Total Deaths per_capita_income_dollars Code  \\\n",
       "0                            A41          913                     32000  A41   \n",
       "1                            A41          908                     33253  A41   \n",
       "2                            A41          869                     33941  A41   \n",
       "3                            A41          946                     34504  A41   \n",
       "4                            A41          910                     35800  A41   \n",
       "\n",
       "                                    Category Ozone 2nd Max 1-hr  \n",
       "0  Certain infectious and parasitic diseases                NaN  \n",
       "1  Certain infectious and parasitic diseases                NaN  \n",
       "2  Certain infectious and parasitic diseases                NaN  \n",
       "3  Certain infectious and parasitic diseases                NaN  \n",
       "4  Certain infectious and parasitic diseases                NaN  "
      ]
     },
     "execution_count": 27,
     "metadata": {},
     "output_type": "execute_result"
    }
   ],
   "source": [
    "MD_df = MD_df.merge(air_df[['Year', 'County', 'State', 'Ozone 2nd Max 1-hr']], \n",
    "                    left_on=['County', 'State', 'Year'],\n",
    "                    right_on=['County', 'State', 'Year'],\n",
    "                    how = 'left')\n",
    "MD_df.head()"
   ]
  },
  {
   "cell_type": "code",
   "execution_count": 28,
   "metadata": {
    "colab": {
     "base_uri": "https://localhost:8080/"
    },
    "id": "PEce7YmtsXGU",
    "outputId": "94b83cb4-a004-47cc-aaf1-f2ea1e864c1f"
   },
   "outputs": [
    {
     "name": "stdout",
     "output_type": "stream",
     "text": [
      "<class 'pandas.core.frame.DataFrame'>\n",
      "Int64Index: 8450 entries, 0 to 8449\n",
      "Data columns (total 14 columns):\n",
      " #   Column                          Non-Null Count  Dtype \n",
      "---  ------                          --------------  ----- \n",
      " 0   County                          8450 non-null   object\n",
      " 1   County Code                     8450 non-null   int64 \n",
      " 2   Year                            8450 non-null   object\n",
      " 3   Cause of death                  8450 non-null   object\n",
      " 4   Cause of death Code             8450 non-null   object\n",
      " 5   Deaths                          8450 non-null   int64 \n",
      " 6   Population                      8450 non-null   int64 \n",
      " 7   State                           8450 non-null   object\n",
      " 8   Cause of death Code no decimal  8450 non-null   object\n",
      " 9   Total Deaths                    8450 non-null   object\n",
      " 10  per_capita_income_dollars       8450 non-null   object\n",
      " 11  Code                            8450 non-null   object\n",
      " 12  Category                        8450 non-null   object\n",
      " 13  Ozone 2nd Max 1-hr              7173 non-null   object\n",
      "dtypes: int64(3), object(11)\n",
      "memory usage: 990.2+ KB\n"
     ]
    }
   ],
   "source": [
    "MD_df.info()"
   ]
  },
  {
   "cell_type": "markdown",
   "metadata": {
    "id": "SHEI3xi_GhAZ"
   },
   "source": [
    "## Exploratory data analysis"
   ]
  },
  {
   "cell_type": "markdown",
   "metadata": {
    "id": "69zm0MLhHmyt"
   },
   "source": [
    "Explore income data"
   ]
  },
  {
   "cell_type": "code",
   "execution_count": 29,
   "metadata": {
    "colab": {
     "base_uri": "https://localhost:8080/",
     "height": 265
    },
    "id": "T2x1jiMM1Mn4",
    "outputId": "1d7498a5-a5f5-419d-dce2-072f57276e44"
   },
   "outputs": [
    {
     "data": {
      "image/png": "[encoded data removed]",
      "text/plain": [
       "<Figure size 432x288 with 1 Axes>"
      ]
     },
     "metadata": {
      "needs_background": "light"
     },
     "output_type": "display_data"
    }
   ],
   "source": [
    "#Plot the histogram of the per capita income to get an idea of the distribution\n",
    "income_hist = plt.hist(MD_df['per_capita_income_dollars'])"
   ]
  },
  {
   "cell_type": "markdown",
   "metadata": {
    "id": "BWkbcyJzHuII"
   },
   "source": [
    "It looks like the average is around $50,000 and the data is skewed right.\n",
    "\n",
    "Take a look at some basic statistics about the income data:"
   ]
  },
  {
   "cell_type": "code",
   "execution_count": 30,
   "metadata": {
    "colab": {
     "base_uri": "https://localhost:8080/"
    },
    "id": "NG_0EnoHIYFP",
    "outputId": "91c4a96d-20dd-4caf-b1b2-cafef7e4cc29"
   },
   "outputs": [
    {
     "name": "stdout",
     "output_type": "stream",
     "text": [
      "Average:  54775.56816568047\n",
      "Standard dev:  12746.76584128779\n",
      "Min:  25701\n",
      "Max:  90139\n",
      "Mean minus 3 st. dev.s:  16535.270641817107\n",
      "Mean plut 3 st. dev.s:  93015.86568954383\n"
     ]
    }
   ],
   "source": [
    "avg_income = MD_df['per_capita_income_dollars'].mean()\n",
    "stdev_income = MD_df['per_capita_income_dollars'].std()\n",
    "stdev_minus3_income = avg_income - 3*(stdev_income)\n",
    "stdev_plus3_income = avg_income + 3*(stdev_income)\n",
    "min_income = MD_df['per_capita_income_dollars'].min()\n",
    "max_income = MD_df['per_capita_income_dollars'].max()\n",
    "\n",
    "print('Average: ',avg_income)\n",
    "print('Standard dev: ', stdev_income)\n",
    "print('Min: ', min_income)\n",
    "print('Max: ', max_income)\n",
    "print('Mean minus 3 st. dev.s: ', stdev_minus3_income)\n",
    "print('Mean plut 3 st. dev.s: ', stdev_plus3_income)"
   ]
  },
  {
   "cell_type": "markdown",
   "metadata": {
    "id": "KEGwrqfMKC9Z"
   },
   "source": [
    "Figure out how many income buckets we should have using standard deviation"
   ]
  },
  {
   "cell_type": "code",
   "execution_count": 31,
   "metadata": {
    "colab": {
     "base_uri": "https://localhost:8080/"
    },
    "id": "HBLEToNLKIDc",
    "outputId": "d5ef7625-1222-439d-867a-56b16e424d1d"
   },
   "outputs": [
    {
     "data": {
      "text/plain": [
       "5.055243094784105"
      ]
     },
     "execution_count": 31,
     "metadata": {},
     "output_type": "execute_result"
    }
   ],
   "source": [
    "(max_income - min_income)/stdev_income"
   ]
  },
  {
   "cell_type": "markdown",
   "metadata": {
    "id": "kE8AXk1JQtw3"
   },
   "source": [
    "Five income buckets could be:\n",
    "\n",
    "\n",
    "1.   income < 39,000\n",
    "2.   39,000 <= income < 52,000\n",
    "3.   52,000 <= income < 65,000\n",
    "4.   65,000 <= income < 78,000\n",
    "5.   income >= 78,000\n",
    "\n"
   ]
  },
  {
   "cell_type": "code",
   "execution_count": 32,
   "metadata": {
    "id": "XkokKVYGT015"
   },
   "outputs": [],
   "source": [
    "#add bucket column to df using get_income_bucket function\n",
    "bins = [0,50000,90000,200000]\n",
    "labels = [\"Poor\",\"Middle\",\"Rich\"]\n",
    "MD_df['income_bucket'] = pd.cut(MD_df['per_capita_income_dollars'], bins=bins, labels=labels)"
   ]
  },
  {
   "cell_type": "markdown",
   "metadata": {
    "id": "ULbwiIchTkT5"
   },
   "source": [
    "Use LabelEncoder to get a numerical code for each cause of death:"
   ]
  },
  {
   "cell_type": "code",
   "execution_count": 33,
   "metadata": {
    "colab": {
     "base_uri": "https://localhost:8080/"
    },
    "id": "DhQZs7B_dMDq",
    "outputId": "e52f7e3d-cbbb-4d92-d672-2a70365247aa"
   },
   "outputs": [
    {
     "data": {
      "text/plain": [
       "Middle    4910\n",
       "Poor      3437\n",
       "Rich       103\n",
       "Name: income_bucket, dtype: int64"
      ]
     },
     "execution_count": 33,
     "metadata": {},
     "output_type": "execute_result"
    }
   ],
   "source": [
    "MD_df['income_bucket'].value_counts()"
   ]
  },
  {
   "cell_type": "code",
   "execution_count": 34,
   "metadata": {
    "colab": {
     "base_uri": "https://localhost:8080/",
     "height": 534
    },
    "id": "AwTflwbgdMDr",
    "outputId": "f23c409c-6d32-41a9-a9fe-057d5762febf"
   },
   "outputs": [
    {
     "data": {
      "text/html": [
       "<div>\n",
       "<style scoped>\n",
       "    .dataframe tbody tr th:only-of-type {\n",
       "        vertical-align: middle;\n",
       "    }\n",
       "\n",
       "    .dataframe tbody tr th {\n",
       "        vertical-align: top;\n",
       "    }\n",
       "\n",
       "    .dataframe thead th {\n",
       "        text-align: right;\n",
       "    }\n",
       "</style>\n",
       "<table border=\"1\" class=\"dataframe\">\n",
       "  <thead>\n",
       "    <tr style=\"text-align: right;\">\n",
       "      <th></th>\n",
       "      <th>County</th>\n",
       "      <th>County Code</th>\n",
       "      <th>Year</th>\n",
       "      <th>Cause of death</th>\n",
       "      <th>Cause of death Code</th>\n",
       "      <th>Deaths</th>\n",
       "      <th>Population</th>\n",
       "      <th>State</th>\n",
       "      <th>Cause of death Code no decimal</th>\n",
       "      <th>Total Deaths</th>\n",
       "      <th>per_capita_income_dollars</th>\n",
       "      <th>Code</th>\n",
       "      <th>Category</th>\n",
       "      <th>Ozone 2nd Max 1-hr</th>\n",
       "      <th>income_bucket</th>\n",
       "    </tr>\n",
       "  </thead>\n",
       "  <tbody>\n",
       "    <tr>\n",
       "      <th>0</th>\n",
       "      <td>Allegany County</td>\n",
       "      <td>24001</td>\n",
       "      <td>2010</td>\n",
       "      <td>Septicaemia, unspecified</td>\n",
       "      <td>A41.9</td>\n",
       "      <td>15</td>\n",
       "      <td>75087</td>\n",
       "      <td>MD</td>\n",
       "      <td>A41</td>\n",
       "      <td>913</td>\n",
       "      <td>32000</td>\n",
       "      <td>A41</td>\n",
       "      <td>Certain infectious and parasitic diseases</td>\n",
       "      <td>NaN</td>\n",
       "      <td>Poor</td>\n",
       "    </tr>\n",
       "    <tr>\n",
       "      <th>1</th>\n",
       "      <td>Allegany County</td>\n",
       "      <td>24001</td>\n",
       "      <td>2011</td>\n",
       "      <td>Septicaemia, unspecified</td>\n",
       "      <td>A41.9</td>\n",
       "      <td>15</td>\n",
       "      <td>74692</td>\n",
       "      <td>MD</td>\n",
       "      <td>A41</td>\n",
       "      <td>908</td>\n",
       "      <td>33253</td>\n",
       "      <td>A41</td>\n",
       "      <td>Certain infectious and parasitic diseases</td>\n",
       "      <td>NaN</td>\n",
       "      <td>Poor</td>\n",
       "    </tr>\n",
       "    <tr>\n",
       "      <th>2</th>\n",
       "      <td>Allegany County</td>\n",
       "      <td>24001</td>\n",
       "      <td>2012</td>\n",
       "      <td>Septicaemia, unspecified</td>\n",
       "      <td>A41.9</td>\n",
       "      <td>12</td>\n",
       "      <td>74012</td>\n",
       "      <td>MD</td>\n",
       "      <td>A41</td>\n",
       "      <td>869</td>\n",
       "      <td>33941</td>\n",
       "      <td>A41</td>\n",
       "      <td>Certain infectious and parasitic diseases</td>\n",
       "      <td>NaN</td>\n",
       "      <td>Poor</td>\n",
       "    </tr>\n",
       "    <tr>\n",
       "      <th>3</th>\n",
       "      <td>Allegany County</td>\n",
       "      <td>24001</td>\n",
       "      <td>2013</td>\n",
       "      <td>Septicaemia, unspecified</td>\n",
       "      <td>A41.9</td>\n",
       "      <td>15</td>\n",
       "      <td>73521</td>\n",
       "      <td>MD</td>\n",
       "      <td>A41</td>\n",
       "      <td>946</td>\n",
       "      <td>34504</td>\n",
       "      <td>A41</td>\n",
       "      <td>Certain infectious and parasitic diseases</td>\n",
       "      <td>NaN</td>\n",
       "      <td>Poor</td>\n",
       "    </tr>\n",
       "    <tr>\n",
       "      <th>4</th>\n",
       "      <td>Allegany County</td>\n",
       "      <td>24001</td>\n",
       "      <td>2014</td>\n",
       "      <td>Septicaemia, unspecified</td>\n",
       "      <td>A41.9</td>\n",
       "      <td>15</td>\n",
       "      <td>72952</td>\n",
       "      <td>MD</td>\n",
       "      <td>A41</td>\n",
       "      <td>910</td>\n",
       "      <td>35800</td>\n",
       "      <td>A41</td>\n",
       "      <td>Certain infectious and parasitic diseases</td>\n",
       "      <td>NaN</td>\n",
       "      <td>Poor</td>\n",
       "    </tr>\n",
       "  </tbody>\n",
       "</table>\n",
       "</div>"
      ],
      "text/plain": [
       "            County  County Code  Year            Cause of death  \\\n",
       "0  Allegany County        24001  2010  Septicaemia, unspecified   \n",
       "1  Allegany County        24001  2011  Septicaemia, unspecified   \n",
       "2  Allegany County        24001  2012  Septicaemia, unspecified   \n",
       "3  Allegany County        24001  2013  Septicaemia, unspecified   \n",
       "4  Allegany County        24001  2014  Septicaemia, unspecified   \n",
       "\n",
       "  Cause of death Code  Deaths  Population State  \\\n",
       "0               A41.9      15       75087    MD   \n",
       "1               A41.9      15       74692    MD   \n",
       "2               A41.9      12       74012    MD   \n",
       "3               A41.9      15       73521    MD   \n",
       "4               A41.9      15       72952    MD   \n",
       "\n",
       "  Cause of death Code no decimal Total Deaths per_capita_income_dollars Code  \\\n",
       "0                            A41          913                     32000  A41   \n",
       "1                            A41          908                     33253  A41   \n",
       "2                            A41          869                     33941  A41   \n",
       "3                            A41          946                     34504  A41   \n",
       "4                            A41          910                     35800  A41   \n",
       "\n",
       "                                    Category Ozone 2nd Max 1-hr income_bucket  \n",
       "0  Certain infectious and parasitic diseases                NaN          Poor  \n",
       "1  Certain infectious and parasitic diseases                NaN          Poor  \n",
       "2  Certain infectious and parasitic diseases                NaN          Poor  \n",
       "3  Certain infectious and parasitic diseases                NaN          Poor  \n",
       "4  Certain infectious and parasitic diseases                NaN          Poor  "
      ]
     },
     "execution_count": 34,
     "metadata": {},
     "output_type": "execute_result"
    }
   ],
   "source": [
    "MD_df.head()"
   ]
  },
  {
   "cell_type": "code",
   "execution_count": 35,
   "metadata": {
    "colab": {
     "base_uri": "https://localhost:8080/",
     "height": 635
    },
    "id": "DJxH_jAhdMDr",
    "outputId": "6c01080c-24fc-45fa-ba23-faa0b94582d8"
   },
   "outputs": [
    {
     "data": {
      "text/html": [
       "<div>\n",
       "<style scoped>\n",
       "    .dataframe tbody tr th:only-of-type {\n",
       "        vertical-align: middle;\n",
       "    }\n",
       "\n",
       "    .dataframe tbody tr th {\n",
       "        vertical-align: top;\n",
       "    }\n",
       "\n",
       "    .dataframe thead th {\n",
       "        text-align: right;\n",
       "    }\n",
       "</style>\n",
       "<table border=\"1\" class=\"dataframe\">\n",
       "  <thead>\n",
       "    <tr style=\"text-align: right;\">\n",
       "      <th></th>\n",
       "      <th>County</th>\n",
       "      <th>County Code</th>\n",
       "      <th>Year</th>\n",
       "      <th>Cause of death</th>\n",
       "      <th>Cause of death Code</th>\n",
       "      <th>Deaths</th>\n",
       "      <th>Population</th>\n",
       "      <th>State</th>\n",
       "      <th>Cause of death Code no decimal</th>\n",
       "      <th>Total Deaths</th>\n",
       "      <th>per_capita_income_dollars</th>\n",
       "      <th>Code</th>\n",
       "      <th>Category</th>\n",
       "      <th>Ozone 2nd Max 1-hr</th>\n",
       "      <th>income_bucket</th>\n",
       "      <th>cause_num</th>\n",
       "      <th>category_num</th>\n",
       "    </tr>\n",
       "  </thead>\n",
       "  <tbody>\n",
       "    <tr>\n",
       "      <th>8445</th>\n",
       "      <td>Baltimore city</td>\n",
       "      <td>24510</td>\n",
       "      <td>2015</td>\n",
       "      <td>Decubitus ulcer and pressure area, unspecified</td>\n",
       "      <td>L89.9</td>\n",
       "      <td>10</td>\n",
       "      <td>621849</td>\n",
       "      <td>MD</td>\n",
       "      <td>L89</td>\n",
       "      <td>6474</td>\n",
       "      <td>46123</td>\n",
       "      <td>L89</td>\n",
       "      <td>Diseases of the skin and subcutaneous tissue</td>\n",
       "      <td>0.09</td>\n",
       "      <td>Poor</td>\n",
       "      <td>57</td>\n",
       "      <td>10</td>\n",
       "    </tr>\n",
       "    <tr>\n",
       "      <th>8446</th>\n",
       "      <td>Baltimore city</td>\n",
       "      <td>24510</td>\n",
       "      <td>2017</td>\n",
       "      <td>Other specified conduction disorders</td>\n",
       "      <td>I45.8</td>\n",
       "      <td>10</td>\n",
       "      <td>611648</td>\n",
       "      <td>MD</td>\n",
       "      <td>I45</td>\n",
       "      <td>6587</td>\n",
       "      <td>49083</td>\n",
       "      <td>I45</td>\n",
       "      <td>Diseases of the circulatory system</td>\n",
       "      <td>0.08</td>\n",
       "      <td>Poor</td>\n",
       "      <td>155</td>\n",
       "      <td>5</td>\n",
       "    </tr>\n",
       "    <tr>\n",
       "      <th>8447</th>\n",
       "      <td>Baltimore city</td>\n",
       "      <td>24510</td>\n",
       "      <td>2018</td>\n",
       "      <td>Mental and behavioural disorders due to multip...</td>\n",
       "      <td>F19.1</td>\n",
       "      <td>16</td>\n",
       "      <td>602495</td>\n",
       "      <td>MD</td>\n",
       "      <td>F19</td>\n",
       "      <td>6753</td>\n",
       "      <td>51577</td>\n",
       "      <td>F19</td>\n",
       "      <td>Mental and behavioral disorders</td>\n",
       "      <td>0.1</td>\n",
       "      <td>Middle</td>\n",
       "      <td>128</td>\n",
       "      <td>14</td>\n",
       "    </tr>\n",
       "    <tr>\n",
       "      <th>8448</th>\n",
       "      <td>Baltimore city</td>\n",
       "      <td>24510</td>\n",
       "      <td>2019</td>\n",
       "      <td>Mental and behavioural disorders due to multip...</td>\n",
       "      <td>F19.1</td>\n",
       "      <td>11</td>\n",
       "      <td>593490</td>\n",
       "      <td>MD</td>\n",
       "      <td>F19</td>\n",
       "      <td>6642</td>\n",
       "      <td>53378</td>\n",
       "      <td>F19</td>\n",
       "      <td>Mental and behavioral disorders</td>\n",
       "      <td>0.09</td>\n",
       "      <td>Middle</td>\n",
       "      <td>128</td>\n",
       "      <td>14</td>\n",
       "    </tr>\n",
       "    <tr>\n",
       "      <th>8449</th>\n",
       "      <td>Baltimore city</td>\n",
       "      <td>24510</td>\n",
       "      <td>2019</td>\n",
       "      <td>Local infection of skin and subcutaneous tissu...</td>\n",
       "      <td>L08.9</td>\n",
       "      <td>10</td>\n",
       "      <td>593490</td>\n",
       "      <td>MD</td>\n",
       "      <td>L08</td>\n",
       "      <td>6642</td>\n",
       "      <td>53378</td>\n",
       "      <td>L08</td>\n",
       "      <td>Diseases of the skin and subcutaneous tissue</td>\n",
       "      <td>0.09</td>\n",
       "      <td>Middle</td>\n",
       "      <td>115</td>\n",
       "      <td>10</td>\n",
       "    </tr>\n",
       "  </tbody>\n",
       "</table>\n",
       "</div>"
      ],
      "text/plain": [
       "              County  County Code  Year  \\\n",
       "8445  Baltimore city        24510  2015   \n",
       "8446  Baltimore city        24510  2017   \n",
       "8447  Baltimore city        24510  2018   \n",
       "8448  Baltimore city        24510  2019   \n",
       "8449  Baltimore city        24510  2019   \n",
       "\n",
       "                                         Cause of death Cause of death Code  \\\n",
       "8445     Decubitus ulcer and pressure area, unspecified               L89.9   \n",
       "8446               Other specified conduction disorders               I45.8   \n",
       "8447  Mental and behavioural disorders due to multip...               F19.1   \n",
       "8448  Mental and behavioural disorders due to multip...               F19.1   \n",
       "8449  Local infection of skin and subcutaneous tissu...               L08.9   \n",
       "\n",
       "      Deaths  Population State Cause of death Code no decimal Total Deaths  \\\n",
       "8445      10      621849    MD                            L89         6474   \n",
       "8446      10      611648    MD                            I45         6587   \n",
       "8447      16      602495    MD                            F19         6753   \n",
       "8448      11      593490    MD                            F19         6642   \n",
       "8449      10      593490    MD                            L08         6642   \n",
       "\n",
       "     per_capita_income_dollars Code  \\\n",
       "8445                     46123  L89   \n",
       "8446                     49083  I45   \n",
       "8447                     51577  F19   \n",
       "8448                     53378  F19   \n",
       "8449                     53378  L08   \n",
       "\n",
       "                                          Category Ozone 2nd Max 1-hr  \\\n",
       "8445  Diseases of the skin and subcutaneous tissue               0.09   \n",
       "8446            Diseases of the circulatory system               0.08   \n",
       "8447               Mental and behavioral disorders                0.1   \n",
       "8448               Mental and behavioral disorders               0.09   \n",
       "8449  Diseases of the skin and subcutaneous tissue               0.09   \n",
       "\n",
       "     income_bucket  cause_num  category_num  \n",
       "8445          Poor         57            10  \n",
       "8446          Poor        155             5  \n",
       "8447        Middle        128            14  \n",
       "8448        Middle        128            14  \n",
       "8449        Middle        115            10  "
      ]
     },
     "execution_count": 35,
     "metadata": {},
     "output_type": "execute_result"
    }
   ],
   "source": [
    "MD_df['cause_num'] = LabelEncoder().fit_transform(MD_df['Cause of death'])#Converting to int \n",
    "MD_df['category_num'] = LabelEncoder().fit_transform(MD_df['Category'])#Converting to int \n",
    "MD_df.tail()"
   ]
  },
  {
   "cell_type": "code",
   "execution_count": 36,
   "metadata": {
    "id": "Edz86gP4dMDr"
   },
   "outputs": [],
   "source": [
    "MD_df['Total Deaths']=MD_df['Total Deaths'].astype(int)"
   ]
  },
  {
   "cell_type": "markdown",
   "metadata": {
    "id": "_h1bi1F_dMDr"
   },
   "source": [
    "## Income bucket contributing to Total Deaths"
   ]
  },
  {
   "cell_type": "code",
   "execution_count": 37,
   "metadata": {
    "colab": {
     "base_uri": "https://localhost:8080/",
     "height": 136
    },
    "id": "74_Nu7trdMDr",
    "outputId": "c2fd9b29-3d34-4eb9-97a9-da2bc583383e"
   },
   "outputs": [
    {
     "data": {
      "text/html": [
       "<div>\n",
       "<style scoped>\n",
       "    .dataframe tbody tr th:only-of-type {\n",
       "        vertical-align: middle;\n",
       "    }\n",
       "\n",
       "    .dataframe tbody tr th {\n",
       "        vertical-align: top;\n",
       "    }\n",
       "\n",
       "    .dataframe thead th {\n",
       "        text-align: right;\n",
       "    }\n",
       "</style>\n",
       "<table border=\"1\" class=\"dataframe\">\n",
       "  <thead>\n",
       "    <tr style=\"text-align: right;\">\n",
       "      <th></th>\n",
       "      <th>Total Deaths</th>\n",
       "    </tr>\n",
       "  </thead>\n",
       "  <tbody>\n",
       "    <tr>\n",
       "      <th>2</th>\n",
       "      <td>6205.000000</td>\n",
       "    </tr>\n",
       "    <tr>\n",
       "      <th>1</th>\n",
       "      <td>4322.003462</td>\n",
       "    </tr>\n",
       "    <tr>\n",
       "      <th>0</th>\n",
       "      <td>3899.167297</td>\n",
       "    </tr>\n",
       "  </tbody>\n",
       "</table>\n",
       "</div>"
      ],
      "text/plain": [
       "   Total Deaths\n",
       "2   6205.000000\n",
       "1   4322.003462\n",
       "0   3899.167297"
      ]
     },
     "execution_count": 37,
     "metadata": {},
     "output_type": "execute_result"
    }
   ],
   "source": [
    "MD_df[[\"income_bucket\",\"Total Deaths\"]].groupby(MD_df[\"income_bucket\"],as_index=False).mean().sort_values(by='Total Deaths',ascending=False)"
   ]
  },
  {
   "cell_type": "markdown",
   "metadata": {
    "id": "RYxSPPBUdMDr"
   },
   "source": [
    "## Cause of death having more deaths"
   ]
  },
  {
   "cell_type": "code",
   "execution_count": 38,
   "metadata": {
    "colab": {
     "base_uri": "https://localhost:8080/",
     "height": 402
    },
    "id": "zrTzjfVVdMDs",
    "outputId": "a6ce2b07-7484-46f0-cde5-c87c9923bb76"
   },
   "outputs": [
    {
     "data": {
      "text/html": [
       "<div>\n",
       "<style scoped>\n",
       "    .dataframe tbody tr th:only-of-type {\n",
       "        vertical-align: middle;\n",
       "    }\n",
       "\n",
       "    .dataframe tbody tr th {\n",
       "        vertical-align: top;\n",
       "    }\n",
       "\n",
       "    .dataframe thead th {\n",
       "        text-align: right;\n",
       "    }\n",
       "</style>\n",
       "<table border=\"1\" class=\"dataframe\">\n",
       "  <thead>\n",
       "    <tr style=\"text-align: right;\">\n",
       "      <th></th>\n",
       "      <th>cause_num</th>\n",
       "      <th>Total Deaths</th>\n",
       "    </tr>\n",
       "  </thead>\n",
       "  <tbody>\n",
       "    <tr>\n",
       "      <th>167</th>\n",
       "      <td>167</td>\n",
       "      <td>8519.000000</td>\n",
       "    </tr>\n",
       "    <tr>\n",
       "      <th>154</th>\n",
       "      <td>154</td>\n",
       "      <td>8511.000000</td>\n",
       "    </tr>\n",
       "    <tr>\n",
       "      <th>75</th>\n",
       "      <td>75</td>\n",
       "      <td>8503.000000</td>\n",
       "    </tr>\n",
       "    <tr>\n",
       "      <th>174</th>\n",
       "      <td>174</td>\n",
       "      <td>8487.000000</td>\n",
       "    </tr>\n",
       "    <tr>\n",
       "      <th>0</th>\n",
       "      <td>0</td>\n",
       "      <td>8055.500000</td>\n",
       "    </tr>\n",
       "    <tr>\n",
       "      <th>...</th>\n",
       "      <td>...</td>\n",
       "      <td>...</td>\n",
       "    </tr>\n",
       "    <tr>\n",
       "      <th>9</th>\n",
       "      <td>9</td>\n",
       "      <td>2079.224215</td>\n",
       "    </tr>\n",
       "    <tr>\n",
       "      <th>24</th>\n",
       "      <td>24</td>\n",
       "      <td>2019.137931</td>\n",
       "    </tr>\n",
       "    <tr>\n",
       "      <th>31</th>\n",
       "      <td>31</td>\n",
       "      <td>1981.417722</td>\n",
       "    </tr>\n",
       "    <tr>\n",
       "      <th>177</th>\n",
       "      <td>177</td>\n",
       "      <td>1268.571429</td>\n",
       "    </tr>\n",
       "    <tr>\n",
       "      <th>199</th>\n",
       "      <td>199</td>\n",
       "      <td>402.333333</td>\n",
       "    </tr>\n",
       "  </tbody>\n",
       "</table>\n",
       "<p>203 rows × 2 columns</p>\n",
       "</div>"
      ],
      "text/plain": [
       "     cause_num  Total Deaths\n",
       "167        167   8519.000000\n",
       "154        154   8511.000000\n",
       "75          75   8503.000000\n",
       "174        174   8487.000000\n",
       "0            0   8055.500000\n",
       "..         ...           ...\n",
       "9            9   2079.224215\n",
       "24          24   2019.137931\n",
       "31          31   1981.417722\n",
       "177        177   1268.571429\n",
       "199        199    402.333333\n",
       "\n",
       "[203 rows x 2 columns]"
      ]
     },
     "execution_count": 38,
     "metadata": {},
     "output_type": "execute_result"
    }
   ],
   "source": [
    "MD_df[['cause_num','Total Deaths']].groupby(\"cause_num\",as_index=False).mean().sort_values(by=\"Total Deaths\",ascending=False)"
   ]
  },
  {
   "cell_type": "markdown",
   "metadata": {
    "id": "IPHTzKMTdMDs"
   },
   "source": [
    "### Hypothesis Testing\n",
    "#### Performing Chi-Square Test to determine relationship"
   ]
  },
  {
   "cell_type": "markdown",
   "metadata": {
    "id": "odXhuqXAdMDs"
   },
   "source": [
    "###### H0: There is no relationship between the features- Null hypothesis\n",
    "###### H1: There is a relationship between the features- Alternate hypothesis"
   ]
  },
  {
   "cell_type": "code",
   "execution_count": 39,
   "metadata": {
    "id": "61e3alK7dMDs"
   },
   "outputs": [],
   "source": [
    "import scipy.stats as stats\n",
    "data=pd.crosstab(MD_df['Cause of death'],MD_df['Category'])"
   ]
  },
  {
   "cell_type": "code",
   "execution_count": 40,
   "metadata": {
    "id": "mrFGHPUFdMDs"
   },
   "outputs": [],
   "source": [
    "val=stats.chi2_contingency(data) #You can view this table, however, it would be difficult to visualize"
   ]
  },
  {
   "cell_type": "code",
   "execution_count": 41,
   "metadata": {
    "colab": {
     "base_uri": "https://localhost:8080/"
    },
    "id": "LC7FTW5gdMDs",
    "outputId": "cd916989-7d85-477b-88dd-03b4fa35c46e"
   },
   "outputs": [
    {
     "name": "stdout",
     "output_type": "stream",
     "text": [
      "Degree of Freedom= 1\n"
     ]
    }
   ],
   "source": [
    "#We wish to find the degree of freedom\n",
    "no_of_rows=len(data.iloc[0:2,0])\n",
    "no_of_columns=len(data.iloc[0,0:2])\n",
    "dof=(no_of_rows-1)*(no_of_columns-1)\n",
    "print(\"Degree of Freedom=\",dof)\n",
    "alpha = 0.05"
   ]
  },
  {
   "cell_type": "code",
   "execution_count": 42,
   "metadata": {
    "colab": {
     "base_uri": "https://localhost:8080/"
    },
    "id": "_p3HPQm0dMDt",
    "outputId": "d3ad5987-f9b0-4605-95fb-6e5b9c93be27"
   },
   "outputs": [
    {
     "data": {
      "text/plain": [
       "array([[ 0,  0,  0, ...,  0,  0,  0],\n",
       "       [ 0,  0,  0, ...,  1,  0,  0],\n",
       "       [ 0,  0,  0, ..., 59,  0,  0],\n",
       "       ...,\n",
       "       [ 0,  0,  0, ...,  0,  0,  0],\n",
       "       [ 0,  0,  0, ...,  0,  0,  0],\n",
       "       [ 0,  0,  0, ...,  0,  0,  0]], dtype=int64)"
      ]
     },
     "execution_count": 42,
     "metadata": {},
     "output_type": "execute_result"
    }
   ],
   "source": [
    "Observed_Values = data.values \n",
    "Observed_Values"
   ]
  },
  {
   "cell_type": "code",
   "execution_count": 43,
   "metadata": {
    "id": "UJ-yJW4VdMDt"
   },
   "outputs": [],
   "source": [
    "Expected_Values=val[3] #You can select any random value"
   ]
  },
  {
   "cell_type": "code",
   "execution_count": 44,
   "metadata": {
    "id": "0Y7qJhHedMDt"
   },
   "outputs": [],
   "source": [
    "from scipy.stats import chi2\n",
    "chi_square=sum([(o-e)**2./e for o,e in zip(Observed_Values,Expected_Values)]) #Chi-Square formula.\n",
    "chi_square_statistic=chi_square[0]+chi_square[1]"
   ]
  },
  {
   "cell_type": "code",
   "execution_count": 45,
   "metadata": {
    "colab": {
     "base_uri": "https://localhost:8080/"
    },
    "id": "MZWovxlTdMDt",
    "outputId": "3988b118-4a62-4440-d720-017a5846d038"
   },
   "outputs": [
    {
     "name": "stdout",
     "output_type": "stream",
     "text": [
      "chi-square statistic:- 16783.00000000003\n"
     ]
    }
   ],
   "source": [
    "print(\"chi-square statistic:-\",chi_square_statistic)"
   ]
  },
  {
   "cell_type": "code",
   "execution_count": 46,
   "metadata": {
    "colab": {
     "base_uri": "https://localhost:8080/"
    },
    "id": "JB46ql-gdMDt",
    "outputId": "efa72d71-4bee-49c9-dd5d-d78f656a7878"
   },
   "outputs": [
    {
     "name": "stdout",
     "output_type": "stream",
     "text": [
      "critical_value: 3.841458820694124\n"
     ]
    }
   ],
   "source": [
    "critical_value=chi2.ppf(q=1-alpha,df=dof)\n",
    "print('critical_value:',critical_value)"
   ]
  },
  {
   "cell_type": "code",
   "execution_count": 47,
   "metadata": {
    "colab": {
     "base_uri": "https://localhost:8080/"
    },
    "id": "9QXIXUO9dMDt",
    "outputId": "e5a328bc-c4b9-4405-afec-cd2457cf4534"
   },
   "outputs": [
    {
     "name": "stdout",
     "output_type": "stream",
     "text": [
      "p-value: 0.0\n",
      "Significance level:  0.05\n",
      "Degree of Freedom:  1\n",
      "Reject the null hypothesis, hence relationship exists\n",
      "Reject the null hypothesis, hence relationship exists\n"
     ]
    }
   ],
   "source": [
    "#p-value\n",
    "p_value=1-chi2.cdf(x=chi_square_statistic,df=dof)\n",
    "print('p-value:',p_value)\n",
    "print('Significance level: ',alpha)\n",
    "print('Degree of Freedom: ',dof)\n",
    "\n",
    "if chi_square_statistic>=critical_value:\n",
    "    print(\"Reject the null hypothesis, hence relationship exists\")\n",
    "else:\n",
    "    print(\"Accept the null hypothesis i.e H0, so no relationship between the features\")\n",
    "    \n",
    "if p_value<=alpha:\n",
    "    print(\"Reject the null hypothesis, hence relationship exists\")\n",
    "else:\n",
    "    print(\"Accept the null hypothesis i.e H0, so no relationship between the features\")"
   ]
  },
  {
   "cell_type": "markdown",
   "metadata": {
    "id": "B-F83ipodMDu"
   },
   "source": [
    "##### Hence category and cause of death has a relationship amongst themselves."
   ]
  },
  {
   "cell_type": "markdown",
   "metadata": {
    "id": "Q6oinLbTdMDu"
   },
   "source": [
    "##### Determine Income VS Category relationship"
   ]
  },
  {
   "cell_type": "code",
   "execution_count": 48,
   "metadata": {
    "colab": {
     "base_uri": "https://localhost:8080/"
    },
    "id": "RxOsO9zYdMDu",
    "outputId": "37f4a99b-4d9f-419c-d0af-fa3f2890fb6c"
   },
   "outputs": [
    {
     "name": "stdout",
     "output_type": "stream",
     "text": [
      "Degree of Freedom= 1\n",
      "Observed Values :-\n",
      " [[  48   20  148    8    0 1078  124  106  191  300    1  184   69   48\n",
      "   141  826   98   15   32]\n",
      " [  31   16  137    6    5 1541  194  167  296  420    1  241  114   89\n",
      "   168 1268  169    5   42]\n",
      " [   1    1    2    0    0   30    5    5    8    6    0    4    2    3\n",
      "     2   25    7    0    2]]\n"
     ]
    }
   ],
   "source": [
    "data=pd.crosstab(MD_df['income_bucket'],MD_df['Category'])\n",
    "val1=stats.chi2_contingency(data) \n",
    "no_of_rows=len(data.iloc[0:2,0])\n",
    "no_of_columns=len(data.iloc[0,0:2])\n",
    "dof_1=(no_of_rows-1)*(no_of_columns-1)\n",
    "print(\"Degree of Freedom=\",dof)\n",
    "alpha = 0.05\n",
    "Observed_Values1 = data.values \n",
    "print(\"Observed Values :-\\n\",Observed_Values1)"
   ]
  },
  {
   "cell_type": "code",
   "execution_count": 49,
   "metadata": {
    "colab": {
     "base_uri": "https://localhost:8080/"
    },
    "id": "lpj1sqnkdMDu",
    "outputId": "4bf58eb3-2605-4548-aacd-dfd9788e48d4"
   },
   "outputs": [
    {
     "name": "stdout",
     "output_type": "stream",
     "text": [
      "chi-square statistic:- 16.208039072041355\n",
      "critical_value: 3.841458820694124\n"
     ]
    }
   ],
   "source": [
    "#Evaluate chi-square metrics\n",
    "Expected_Values1=val1[3]\n",
    "chi_square1=sum([(o-e)**2./e for o,e in zip(Observed_Values1,Expected_Values1)])\n",
    "chi_square_statistic1=chi_square1[0]+chi_square1[1]\n",
    "print(\"chi-square statistic:-\",chi_square_statistic1)\n",
    "critical_value1=chi2.ppf(q=1-alpha,df=dof_1)\n",
    "print('critical_value:',critical_value1)"
   ]
  },
  {
   "cell_type": "code",
   "execution_count": 50,
   "metadata": {
    "colab": {
     "base_uri": "https://localhost:8080/"
    },
    "id": "h-r1yguWdMDu",
    "outputId": "63b4aff8-5544-418c-988c-f920be758e51"
   },
   "outputs": [
    {
     "name": "stdout",
     "output_type": "stream",
     "text": [
      "p-value: 0.0\n",
      "Significance level:  0.05\n",
      "Degree of Freedom:  1\n",
      "p-value: 0.0\n",
      "Reject the null hypothesis, hence relationship exists\n",
      "Reject the null hypothesis, hence relationship exists\n"
     ]
    }
   ],
   "source": [
    "#p and chi square statistic value\n",
    "p_value=1-chi2.cdf(x=chi_square_statistic,df=dof_1)\n",
    "print('p-value:',p_value)\n",
    "print('Significance level: ',alpha)\n",
    "print('Degree of Freedom: ',dof_1)\n",
    "print('p-value:',p_value)\n",
    "\n",
    "\n",
    "if chi_square_statistic1>=critical_value1:\n",
    "    print(\"Reject the null hypothesis, hence relationship exists\")\n",
    "else:\n",
    "    print(\"Accept the null hypothesis i.e H0, so no relationship between the features\")\n",
    "    \n",
    "if p_value<=alpha:\n",
    "    print(\"Reject the null hypothesis, hence relationship exists\")\n",
    "else:\n",
    "    print(\"Accept the null hypothesis i.e H0, so no relationship between the features\")"
   ]
  },
  {
   "cell_type": "code",
   "execution_count": 51,
   "metadata": {
    "id": "xlCZQLaCdMDv"
   },
   "outputs": [],
   "source": [
    "#Use mean to fill missing values\n",
    "MD_df['Ozone 2nd Max 1-hr']=MD_df['Ozone 2nd Max 1-hr'].astype(float)\n",
    "MD_df['Ozone 2nd Max 1-hr']=MD_df['Ozone 2nd Max 1-hr'].fillna(MD_df['Ozone 2nd Max 1-hr'].mean())\n",
    "MD_df['income_bucket']=MD_df['income_bucket'].map({'Poor':0,'Middle':1,'Rich':3})\n",
    "MD_df['income_bucket']=MD_df['income_bucket'].astype(int)"
   ]
  },
  {
   "cell_type": "code",
   "execution_count": 52,
   "metadata": {
    "colab": {
     "base_uri": "https://localhost:8080/",
     "height": 449
    },
    "id": "PJ77T5GTdMDv",
    "outputId": "a0925142-7d47-4eaa-bee3-94c75ce2c28a"
   },
   "outputs": [
    {
     "data": {
      "text/plain": [
       "<AxesSubplot:>"
      ]
     },
     "execution_count": 52,
     "metadata": {},
     "output_type": "execute_result"
    },
    {
     "data": {
      "image/png": "[encoded data removed]",
      "text/plain": [
       "<Figure size 1440x720 with 2 Axes>"
      ]
     },
     "metadata": {
      "needs_background": "light"
     },
     "output_type": "display_data"
    }
   ],
   "source": [
    "#Corellation plot\n",
    "plt.figure(figsize=(20,10))\n",
    "sn.heatmap(MD_df.corr(),annot=True, cmap='RdYlGn')"
   ]
  },
  {
   "cell_type": "code",
   "execution_count": 53,
   "metadata": {
    "colab": {
     "base_uri": "https://localhost:8080/"
    },
    "id": "grkBiDtTdMDv",
    "outputId": "776bedb9-f24a-4753-a165-59c75344c4f9"
   },
   "outputs": [
    {
     "name": "stdout",
     "output_type": "stream",
     "text": [
      "<class 'pandas.core.frame.DataFrame'>\n",
      "Int64Index: 8450 entries, 0 to 8449\n",
      "Data columns (total 17 columns):\n",
      " #   Column                          Non-Null Count  Dtype  \n",
      "---  ------                          --------------  -----  \n",
      " 0   County                          8450 non-null   object \n",
      " 1   County Code                     8450 non-null   int64  \n",
      " 2   Year                            8450 non-null   object \n",
      " 3   Cause of death                  8450 non-null   object \n",
      " 4   Cause of death Code             8450 non-null   object \n",
      " 5   Deaths                          8450 non-null   int64  \n",
      " 6   Population                      8450 non-null   int64  \n",
      " 7   State                           8450 non-null   object \n",
      " 8   Cause of death Code no decimal  8450 non-null   object \n",
      " 9   Total Deaths                    8450 non-null   int32  \n",
      " 10  per_capita_income_dollars       8450 non-null   object \n",
      " 11  Code                            8450 non-null   object \n",
      " 12  Category                        8450 non-null   object \n",
      " 13  Ozone 2nd Max 1-hr              8450 non-null   float64\n",
      " 14  income_bucket                   8450 non-null   int32  \n",
      " 15  cause_num                       8450 non-null   int32  \n",
      " 16  category_num                    8450 non-null   int32  \n",
      "dtypes: float64(1), int32(4), int64(3), object(9)\n",
      "memory usage: 1.0+ MB\n"
     ]
    }
   ],
   "source": [
    "MD_df.info()"
   ]
  },
  {
   "cell_type": "code",
   "execution_count": 54,
   "metadata": {
    "colab": {
     "base_uri": "https://localhost:8080/",
     "height": 534
    },
    "id": "cAuzzBRGdMDw",
    "outputId": "03b5f442-c906-477b-81ab-3dee148971d3",
    "scrolled": true
   },
   "outputs": [
    {
     "data": {
      "text/html": [
       "<div>\n",
       "<style scoped>\n",
       "    .dataframe tbody tr th:only-of-type {\n",
       "        vertical-align: middle;\n",
       "    }\n",
       "\n",
       "    .dataframe tbody tr th {\n",
       "        vertical-align: top;\n",
       "    }\n",
       "\n",
       "    .dataframe thead th {\n",
       "        text-align: right;\n",
       "    }\n",
       "</style>\n",
       "<table border=\"1\" class=\"dataframe\">\n",
       "  <thead>\n",
       "    <tr style=\"text-align: right;\">\n",
       "      <th></th>\n",
       "      <th>County</th>\n",
       "      <th>County Code</th>\n",
       "      <th>Year</th>\n",
       "      <th>Cause of death</th>\n",
       "      <th>Cause of death Code</th>\n",
       "      <th>Deaths</th>\n",
       "      <th>Population</th>\n",
       "      <th>State</th>\n",
       "      <th>Cause of death Code no decimal</th>\n",
       "      <th>Total Deaths</th>\n",
       "      <th>per_capita_income_dollars</th>\n",
       "      <th>Code</th>\n",
       "      <th>Category</th>\n",
       "      <th>Ozone 2nd Max 1-hr</th>\n",
       "      <th>income_bucket</th>\n",
       "      <th>cause_num</th>\n",
       "      <th>category_num</th>\n",
       "    </tr>\n",
       "  </thead>\n",
       "  <tbody>\n",
       "    <tr>\n",
       "      <th>0</th>\n",
       "      <td>Allegany County</td>\n",
       "      <td>24001</td>\n",
       "      <td>2010</td>\n",
       "      <td>Septicaemia, unspecified</td>\n",
       "      <td>A41.9</td>\n",
       "      <td>15</td>\n",
       "      <td>75087</td>\n",
       "      <td>MD</td>\n",
       "      <td>A41</td>\n",
       "      <td>913</td>\n",
       "      <td>32000</td>\n",
       "      <td>A41</td>\n",
       "      <td>Certain infectious and parasitic diseases</td>\n",
       "      <td>0.091581</td>\n",
       "      <td>0</td>\n",
       "      <td>182</td>\n",
       "      <td>2</td>\n",
       "    </tr>\n",
       "    <tr>\n",
       "      <th>1</th>\n",
       "      <td>Allegany County</td>\n",
       "      <td>24001</td>\n",
       "      <td>2011</td>\n",
       "      <td>Septicaemia, unspecified</td>\n",
       "      <td>A41.9</td>\n",
       "      <td>15</td>\n",
       "      <td>74692</td>\n",
       "      <td>MD</td>\n",
       "      <td>A41</td>\n",
       "      <td>908</td>\n",
       "      <td>33253</td>\n",
       "      <td>A41</td>\n",
       "      <td>Certain infectious and parasitic diseases</td>\n",
       "      <td>0.091581</td>\n",
       "      <td>0</td>\n",
       "      <td>182</td>\n",
       "      <td>2</td>\n",
       "    </tr>\n",
       "    <tr>\n",
       "      <th>2</th>\n",
       "      <td>Allegany County</td>\n",
       "      <td>24001</td>\n",
       "      <td>2012</td>\n",
       "      <td>Septicaemia, unspecified</td>\n",
       "      <td>A41.9</td>\n",
       "      <td>12</td>\n",
       "      <td>74012</td>\n",
       "      <td>MD</td>\n",
       "      <td>A41</td>\n",
       "      <td>869</td>\n",
       "      <td>33941</td>\n",
       "      <td>A41</td>\n",
       "      <td>Certain infectious and parasitic diseases</td>\n",
       "      <td>0.091581</td>\n",
       "      <td>0</td>\n",
       "      <td>182</td>\n",
       "      <td>2</td>\n",
       "    </tr>\n",
       "    <tr>\n",
       "      <th>3</th>\n",
       "      <td>Allegany County</td>\n",
       "      <td>24001</td>\n",
       "      <td>2013</td>\n",
       "      <td>Septicaemia, unspecified</td>\n",
       "      <td>A41.9</td>\n",
       "      <td>15</td>\n",
       "      <td>73521</td>\n",
       "      <td>MD</td>\n",
       "      <td>A41</td>\n",
       "      <td>946</td>\n",
       "      <td>34504</td>\n",
       "      <td>A41</td>\n",
       "      <td>Certain infectious and parasitic diseases</td>\n",
       "      <td>0.091581</td>\n",
       "      <td>0</td>\n",
       "      <td>182</td>\n",
       "      <td>2</td>\n",
       "    </tr>\n",
       "    <tr>\n",
       "      <th>4</th>\n",
       "      <td>Allegany County</td>\n",
       "      <td>24001</td>\n",
       "      <td>2014</td>\n",
       "      <td>Septicaemia, unspecified</td>\n",
       "      <td>A41.9</td>\n",
       "      <td>15</td>\n",
       "      <td>72952</td>\n",
       "      <td>MD</td>\n",
       "      <td>A41</td>\n",
       "      <td>910</td>\n",
       "      <td>35800</td>\n",
       "      <td>A41</td>\n",
       "      <td>Certain infectious and parasitic diseases</td>\n",
       "      <td>0.091581</td>\n",
       "      <td>0</td>\n",
       "      <td>182</td>\n",
       "      <td>2</td>\n",
       "    </tr>\n",
       "  </tbody>\n",
       "</table>\n",
       "</div>"
      ],
      "text/plain": [
       "            County  County Code  Year            Cause of death  \\\n",
       "0  Allegany County        24001  2010  Septicaemia, unspecified   \n",
       "1  Allegany County        24001  2011  Septicaemia, unspecified   \n",
       "2  Allegany County        24001  2012  Septicaemia, unspecified   \n",
       "3  Allegany County        24001  2013  Septicaemia, unspecified   \n",
       "4  Allegany County        24001  2014  Septicaemia, unspecified   \n",
       "\n",
       "  Cause of death Code  Deaths  Population State  \\\n",
       "0               A41.9      15       75087    MD   \n",
       "1               A41.9      15       74692    MD   \n",
       "2               A41.9      12       74012    MD   \n",
       "3               A41.9      15       73521    MD   \n",
       "4               A41.9      15       72952    MD   \n",
       "\n",
       "  Cause of death Code no decimal  Total Deaths per_capita_income_dollars Code  \\\n",
       "0                            A41           913                     32000  A41   \n",
       "1                            A41           908                     33253  A41   \n",
       "2                            A41           869                     33941  A41   \n",
       "3                            A41           946                     34504  A41   \n",
       "4                            A41           910                     35800  A41   \n",
       "\n",
       "                                    Category  Ozone 2nd Max 1-hr  \\\n",
       "0  Certain infectious and parasitic diseases            0.091581   \n",
       "1  Certain infectious and parasitic diseases            0.091581   \n",
       "2  Certain infectious and parasitic diseases            0.091581   \n",
       "3  Certain infectious and parasitic diseases            0.091581   \n",
       "4  Certain infectious and parasitic diseases            0.091581   \n",
       "\n",
       "   income_bucket  cause_num  category_num  \n",
       "0              0        182             2  \n",
       "1              0        182             2  \n",
       "2              0        182             2  \n",
       "3              0        182             2  \n",
       "4              0        182             2  "
      ]
     },
     "execution_count": 54,
     "metadata": {},
     "output_type": "execute_result"
    }
   ],
   "source": [
    "MD_df.head()"
   ]
  },
  {
   "cell_type": "code",
   "execution_count": 55,
   "metadata": {},
   "outputs": [],
   "source": [
    "MD_df.to_csv(r'D:\\\\MD_df.csv', index = False)# To use the csv or dataframe in the deployment file"
   ]
  },
  {
   "cell_type": "code",
   "execution_count": 56,
   "metadata": {
    "scrolled": true
   },
   "outputs": [
    {
     "data": {
      "text/plain": [
       "Bronchus or lung, unspecified - Malignant neoplasms                                                                 237\n",
       "Atherosclerotic heart disease                                                                                       232\n",
       "Unspecified dementia                                                                                                224\n",
       "Chronic obstructive pulmonary disease, unspecified                                                                  224\n",
       "Acute myocardial infarction, unspecified                                                                            223\n",
       "                                                                                                                   ... \n",
       "Intentional self-poisoning by and exposure to other and unspecified drugs, medicaments and biological substances      1\n",
       "Newborn affected by chorioamnionitis                                                                                  1\n",
       "Person injured in collision between other specified motor vehicles (traffic)                                          1\n",
       "Pulmonary heart disease, unspecified                                                                                  1\n",
       "Myocarditis, unspecified                                                                                              1\n",
       "Name: Cause of death, Length: 203, dtype: int64"
      ]
     },
     "execution_count": 56,
     "metadata": {},
     "output_type": "execute_result"
    }
   ],
   "source": [
    "MD_df['Cause of death'].value_counts()"
   ]
  },
  {
   "cell_type": "code",
   "execution_count": 57,
   "metadata": {},
   "outputs": [],
   "source": [
    "#Changing type from object to int\n",
    "MD_df['income_bucket']=MD_df['income_bucket'].astype(int)\n",
    "MD_df['Population']=MD_df['Population'].astype(int)\n",
    "MD_df['cause_num']=MD_df['cause_num'].astype(int)"
   ]
  },
  {
   "cell_type": "code",
   "execution_count": 58,
   "metadata": {
    "id": "gTNhxA9XdMD2"
   },
   "outputs": [],
   "source": [
    "#Modeling by a sample linear regression to predict the death.\n",
    "from sklearn.linear_model import LinearRegression\n",
    "from sklearn.model_selection import train_test_split\n",
    "from sklearn.preprocessing import StandardScaler\n",
    "X=MD_df[['income_bucket','Population','cause_num']]\n",
    "y=MD_df['Deaths']\n",
    "X_train,X_test,y_train,y_test= train_test_split(X,y,test_size=0.2,random_state=0)\n",
    "lr=LinearRegression()"
   ]
  },
  {
   "cell_type": "code",
   "execution_count": 59,
   "metadata": {
    "id": "IzYdEOoFdMD2"
   },
   "outputs": [],
   "source": [
    "l=lr.fit(X_train,y_train)"
   ]
  },
  {
   "cell_type": "code",
   "execution_count": 60,
   "metadata": {
    "colab": {
     "base_uri": "https://localhost:8080/"
    },
    "id": "OlAhyWLJdMD2",
    "outputId": "b60b89f3-7051-43e7-b469-9a5cdeabc7d5"
   },
   "outputs": [
    {
     "data": {
      "text/plain": [
       "0.03970200331406615"
      ]
     },
     "execution_count": 60,
     "metadata": {},
     "output_type": "execute_result"
    }
   ],
   "source": [
    "lr.score(X_test,y_test)"
   ]
  },
  {
   "cell_type": "code",
   "execution_count": 61,
   "metadata": {
    "id": "Rw7DmFZ0lJet"
   },
   "outputs": [],
   "source": [
    "y_pred=l.predict(X_test)"
   ]
  },
  {
   "cell_type": "code",
   "execution_count": 62,
   "metadata": {
    "id": "afXBrbpc6CxM"
   },
   "outputs": [],
   "source": [
    "# Import the model we are using\n",
    "from sklearn.ensemble import RandomForestRegressor\n",
    "# Instantiate model with 1000 decision trees\n",
    "rf = RandomForestRegressor(n_estimators = 1000, random_state = 42)\n",
    "# Train the model on training data\n",
    "rf.fit(X_train,y_train);"
   ]
  },
  {
   "cell_type": "code",
   "execution_count": 63,
   "metadata": {
    "colab": {
     "base_uri": "https://localhost:8080/"
    },
    "id": "uw0C8Sbv6K06",
    "outputId": "5b2a855a-4e88-49a0-d9d5-11066b63e371"
   },
   "outputs": [
    {
     "data": {
      "text/plain": [
       "0.9263799721293686"
      ]
     },
     "execution_count": 63,
     "metadata": {},
     "output_type": "execute_result"
    }
   ],
   "source": [
    "rf.score(X_test,y_test)"
   ]
  },
  {
   "cell_type": "code",
   "execution_count": 64,
   "metadata": {
    "colab": {
     "base_uri": "https://localhost:8080/"
    },
    "id": "U4YuG-33Jvd5",
    "outputId": "2d069dc9-b65f-401b-8b53-eedbb81eba38"
   },
   "outputs": [
    {
     "data": {
      "text/plain": [
       "0.9934999293110444"
      ]
     },
     "execution_count": 64,
     "metadata": {},
     "output_type": "execute_result"
    }
   ],
   "source": [
    "rf.score(X_train,y_train)"
   ]
  },
  {
   "cell_type": "code",
   "execution_count": 65,
   "metadata": {
    "colab": {
     "base_uri": "https://localhost:8080/"
    },
    "id": "eM_bgF3h5VdF",
    "outputId": "254c4e98-48ce-472d-f002-cc433c0b45ed"
   },
   "outputs": [
    {
     "data": {
      "text/plain": [
       "array([0.01371698, 0.22727551, 0.75900751])"
      ]
     },
     "execution_count": 65,
     "metadata": {},
     "output_type": "execute_result"
    }
   ],
   "source": [
    "# Feature importance of income level, Population and cause of death\n",
    "\n",
    "rf.feature_importances_"
   ]
  },
  {
   "cell_type": "code",
   "execution_count": 66,
   "metadata": {
    "colab": {
     "base_uri": "https://localhost:8080/"
    },
    "id": "7r8am5XbX07A",
    "outputId": "38a3ce0d-97a0-481e-a0e9-645b60bf9ed2"
   },
   "outputs": [
    {
     "name": "stdout",
     "output_type": "stream",
     "text": [
      "{'n_estimators': [100, 200, 300, 400, 500, 600, 700, 800, 900, 1000, 1100, 1200], 'max_features': ['auto', 'sqrt'], 'max_depth': [5, 10, 15, 20, 25, 30], 'min_samples_split': [2, 5, 10, 15, 100], 'min_samples_leaf': [1, 2, 5, 10]}\n"
     ]
    }
   ],
   "source": [
    "#Model parameter tuning in Random forest\n",
    "from sklearn.model_selection import RandomizedSearchCV\n",
    "n_estimators = [int(x) for x in np.linspace(start = 100, stop = 1200, num = 12)]\n",
    "#Randomized Search CV\n",
    "# Number of trees in random forest\n",
    "n_estimators = [int(x) for x in np.linspace(start = 100, stop = 1200, num = 12)]\n",
    "# Number of features to consider at every split\n",
    "max_features = ['auto', 'sqrt']\n",
    "# Maximum number of levels in tree\n",
    "max_depth = [int(x) for x in np.linspace(5, 30, num = 6)]\n",
    "# Minimum number of samples required to split a node\n",
    "min_samples_split = [2, 5, 10, 15, 100]\n",
    "# Minimum number of samples required at each leaf node\n",
    "min_samples_leaf = [1, 2, 5, 10]\n",
    "random_grid = {'n_estimators': n_estimators,\n",
    "               'max_features': max_features,\n",
    "               'max_depth': max_depth,\n",
    "               'min_samples_split': min_samples_split,\n",
    "               'min_samples_leaf': min_samples_leaf}\n",
    "\n",
    "print(random_grid)\n",
    "{'n_estimators': [100, 200, 300, 400, 500, 600, 700, 800, 900, 1000, 1100, 1200], 'max_features': ['auto', 'sqrt'], 'max_depth': [5, 10, 15, 20, 25, 30], 'min_samples_split': [2, 5, 10, 15, 100], 'min_samples_leaf': [1, 2, 5, 10]}\n",
    "# Use the random grid to search for best hyperparameters\n",
    "# First create the base model to tune\n",
    "rf = RandomForestRegressor()"
   ]
  },
  {
   "cell_type": "code",
   "execution_count": 67,
   "metadata": {
    "id": "pTVKwndQX8iU"
   },
   "outputs": [],
   "source": [
    "# Random search of parameters, using 3 fold cross validation, \n",
    "# search across 100 different combinations\n",
    "rf_random = RandomizedSearchCV(estimator = rf, param_distributions = random_grid,scoring='neg_mean_squared_error', n_iter = 10, cv = 5, verbose=2, random_state=42, n_jobs = -1)"
   ]
  },
  {
   "cell_type": "code",
   "execution_count": 68,
   "metadata": {
    "colab": {
     "base_uri": "https://localhost:8080/"
    },
    "id": "-1O_v9s3X_lL",
    "outputId": "0af48176-37e2-4b06-8a25-bf620db6e0dc"
   },
   "outputs": [
    {
     "name": "stdout",
     "output_type": "stream",
     "text": [
      "Fitting 5 folds for each of 10 candidates, totalling 50 fits\n"
     ]
    }
   ],
   "source": [
    "rf_1=rf_random.fit(X_train,y_train)\n",
    "predictions=rf_1.predict(X_test)"
   ]
  },
  {
   "cell_type": "code",
   "execution_count": 69,
   "metadata": {
    "colab": {
     "base_uri": "https://localhost:8080/"
    },
    "id": "Tv-guzQ-OpQ3",
    "outputId": "ef432b37-da5e-4f3d-b97c-030579443fe5"
   },
   "outputs": [
    {
     "name": "stdout",
     "output_type": "stream",
     "text": [
      "MAE: 8.286208823455917\n",
      "MSE: 281.22497071271505\n",
      "RMSE: 16.769763585474752\n"
     ]
    }
   ],
   "source": [
    "from sklearn import metrics\n",
    "\n",
    "from sklearn import metrics\n",
    "print('MAE:', metrics.mean_absolute_error(y_test, predictions))\n",
    "print('MSE:', metrics.mean_squared_error(y_test, predictions))\n",
    "print('RMSE:', np.sqrt(metrics.mean_squared_error(y_test, predictions)))"
   ]
  },
  {
   "cell_type": "markdown",
   "metadata": {},
   "source": [
    "#### Pickle file"
   ]
  },
  {
   "cell_type": "code",
   "execution_count": 70,
   "metadata": {
    "id": "R3ohrpijdMD3"
   },
   "outputs": [],
   "source": [
    "import pickle\n",
    "file = open('fin_rf.pkl','wb')\n",
    "pickle.dump(rf_1,file)"
   ]
  }
 ],
 "metadata": {
  "colab": {
   "collapsed_sections": [],
   "name": "DATA602_death_vs_income_Rough_Analysis.ipynb",
   "provenance": [],
   "toc_visible": true
  },
  "kernelspec": {
   "display_name": "Python 3",
   "language": "python",
   "name": "python3"
  },
  "language_info": {
   "codemirror_mode": {
    "name": "ipython",
    "version": 3
   },
   "file_extension": ".py",
   "mimetype": "text/x-python",
   "name": "python",
   "nbconvert_exporter": "python",
   "pygments_lexer": "ipython3",
   "version": "3.9.2"
  }
 },
 "nbformat": 4,
 "nbformat_minor": 1
}
